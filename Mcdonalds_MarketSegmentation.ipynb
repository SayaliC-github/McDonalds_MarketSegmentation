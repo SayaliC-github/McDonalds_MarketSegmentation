{
  "nbformat": 4,
  "nbformat_minor": 0,
  "metadata": {
    "colab": {
      "name": "Mcdonalds_MarketSegmentation.ipynb",
      "provenance": [],
      "collapsed_sections": []
    },
    "kernelspec": {
      "name": "python3",
      "display_name": "Python 3"
    },
    "language_info": {
      "name": "python"
    }
  },
  "cells": [
    {
      "cell_type": "markdown",
      "source": [
        "**Drive Mount** \n",
        "\n",
        "\n",
        "dataset used- mcdonalds.csv\n",
        "\n",
        " "
      ],
      "metadata": {
        "id": "Axly76JVAP0z"
      }
    },
    {
      "cell_type": "code",
      "execution_count": 141,
      "metadata": {
        "colab": {
          "base_uri": "https://localhost:8080/"
        },
        "id": "kAjlgFrkzAOk",
        "outputId": "f9304f7f-c365-44af-d66c-97e144e43f7a"
      },
      "outputs": [
        {
          "output_type": "stream",
          "name": "stdout",
          "text": [
            "Drive already mounted at /content/drive; to attempt to forcibly remount, call drive.mount(\"/content/drive\", force_remount=True).\n"
          ]
        }
      ],
      "source": [
        "from google.colab import drive\n",
        "drive.mount('/content/drive')"
      ]
    },
    {
      "cell_type": "markdown",
      "source": [
        "**Import Libraries**"
      ],
      "metadata": {
        "id": "4L0A-7ATAz8S"
      }
    },
    {
      "cell_type": "code",
      "source": [
        "import numpy as np\n",
        "import pandas as pd\n",
        "import seaborn as sns\n",
        "sns.set(style=\"darkgrid\")\n",
        "import matplotlib.pyplot as plt\n",
        "import sklearn"
      ],
      "metadata": {
        "id": "U_xaP7FZzNJm"
      },
      "execution_count": 142,
      "outputs": []
    },
    {
      "cell_type": "markdown",
      "source": [
        "**Read the dataset**"
      ],
      "metadata": {
        "id": "nMYmxHlPA6NV"
      }
    },
    {
      "cell_type": "code",
      "source": [
        "dataset = pd.read_csv(r'/content/drive/My Drive/datasets/mcdonalds.csv')\n"
      ],
      "metadata": {
        "id": "973_ZRLuzDkH"
      },
      "execution_count": 143,
      "outputs": []
    },
    {
      "cell_type": "code",
      "source": [
        "dataset.head()"
      ],
      "metadata": {
        "colab": {
          "base_uri": "https://localhost:8080/",
          "height": 206
        },
        "id": "wFneBTJSzYE6",
        "outputId": "e95a4ffe-a396-44c6-a520-e8b883ba477d"
      },
      "execution_count": 144,
      "outputs": [
        {
          "output_type": "execute_result",
          "data": {
            "text/plain": [
              "  yummy convenient spicy fattening greasy fast cheap tasty expensive healthy  \\\n",
              "0    No        Yes    No       Yes     No  Yes   Yes    No       Yes      No   \n",
              "1   Yes        Yes    No       Yes    Yes  Yes   Yes   Yes       Yes      No   \n",
              "2    No        Yes   Yes       Yes    Yes  Yes    No   Yes       Yes     Yes   \n",
              "3   Yes        Yes    No       Yes    Yes  Yes   Yes   Yes        No      No   \n",
              "4    No        Yes    No       Yes    Yes  Yes   Yes    No        No     Yes   \n",
              "\n",
              "  disgusting Like  Age      VisitFrequency  Gender  \n",
              "0         No   -3   61  Every three months  Female  \n",
              "1         No   +2   51  Every three months  Female  \n",
              "2         No   +1   62  Every three months  Female  \n",
              "3        Yes   +4   69         Once a week  Female  \n",
              "4         No   +2   49        Once a month    Male  "
            ],
            "text/html": [
              "\n",
              "  <div id=\"df-22fa8677-7273-4b9c-b762-a10f772a8282\">\n",
              "    <div class=\"colab-df-container\">\n",
              "      <div>\n",
              "<style scoped>\n",
              "    .dataframe tbody tr th:only-of-type {\n",
              "        vertical-align: middle;\n",
              "    }\n",
              "\n",
              "    .dataframe tbody tr th {\n",
              "        vertical-align: top;\n",
              "    }\n",
              "\n",
              "    .dataframe thead th {\n",
              "        text-align: right;\n",
              "    }\n",
              "</style>\n",
              "<table border=\"1\" class=\"dataframe\">\n",
              "  <thead>\n",
              "    <tr style=\"text-align: right;\">\n",
              "      <th></th>\n",
              "      <th>yummy</th>\n",
              "      <th>convenient</th>\n",
              "      <th>spicy</th>\n",
              "      <th>fattening</th>\n",
              "      <th>greasy</th>\n",
              "      <th>fast</th>\n",
              "      <th>cheap</th>\n",
              "      <th>tasty</th>\n",
              "      <th>expensive</th>\n",
              "      <th>healthy</th>\n",
              "      <th>disgusting</th>\n",
              "      <th>Like</th>\n",
              "      <th>Age</th>\n",
              "      <th>VisitFrequency</th>\n",
              "      <th>Gender</th>\n",
              "    </tr>\n",
              "  </thead>\n",
              "  <tbody>\n",
              "    <tr>\n",
              "      <th>0</th>\n",
              "      <td>No</td>\n",
              "      <td>Yes</td>\n",
              "      <td>No</td>\n",
              "      <td>Yes</td>\n",
              "      <td>No</td>\n",
              "      <td>Yes</td>\n",
              "      <td>Yes</td>\n",
              "      <td>No</td>\n",
              "      <td>Yes</td>\n",
              "      <td>No</td>\n",
              "      <td>No</td>\n",
              "      <td>-3</td>\n",
              "      <td>61</td>\n",
              "      <td>Every three months</td>\n",
              "      <td>Female</td>\n",
              "    </tr>\n",
              "    <tr>\n",
              "      <th>1</th>\n",
              "      <td>Yes</td>\n",
              "      <td>Yes</td>\n",
              "      <td>No</td>\n",
              "      <td>Yes</td>\n",
              "      <td>Yes</td>\n",
              "      <td>Yes</td>\n",
              "      <td>Yes</td>\n",
              "      <td>Yes</td>\n",
              "      <td>Yes</td>\n",
              "      <td>No</td>\n",
              "      <td>No</td>\n",
              "      <td>+2</td>\n",
              "      <td>51</td>\n",
              "      <td>Every three months</td>\n",
              "      <td>Female</td>\n",
              "    </tr>\n",
              "    <tr>\n",
              "      <th>2</th>\n",
              "      <td>No</td>\n",
              "      <td>Yes</td>\n",
              "      <td>Yes</td>\n",
              "      <td>Yes</td>\n",
              "      <td>Yes</td>\n",
              "      <td>Yes</td>\n",
              "      <td>No</td>\n",
              "      <td>Yes</td>\n",
              "      <td>Yes</td>\n",
              "      <td>Yes</td>\n",
              "      <td>No</td>\n",
              "      <td>+1</td>\n",
              "      <td>62</td>\n",
              "      <td>Every three months</td>\n",
              "      <td>Female</td>\n",
              "    </tr>\n",
              "    <tr>\n",
              "      <th>3</th>\n",
              "      <td>Yes</td>\n",
              "      <td>Yes</td>\n",
              "      <td>No</td>\n",
              "      <td>Yes</td>\n",
              "      <td>Yes</td>\n",
              "      <td>Yes</td>\n",
              "      <td>Yes</td>\n",
              "      <td>Yes</td>\n",
              "      <td>No</td>\n",
              "      <td>No</td>\n",
              "      <td>Yes</td>\n",
              "      <td>+4</td>\n",
              "      <td>69</td>\n",
              "      <td>Once a week</td>\n",
              "      <td>Female</td>\n",
              "    </tr>\n",
              "    <tr>\n",
              "      <th>4</th>\n",
              "      <td>No</td>\n",
              "      <td>Yes</td>\n",
              "      <td>No</td>\n",
              "      <td>Yes</td>\n",
              "      <td>Yes</td>\n",
              "      <td>Yes</td>\n",
              "      <td>Yes</td>\n",
              "      <td>No</td>\n",
              "      <td>No</td>\n",
              "      <td>Yes</td>\n",
              "      <td>No</td>\n",
              "      <td>+2</td>\n",
              "      <td>49</td>\n",
              "      <td>Once a month</td>\n",
              "      <td>Male</td>\n",
              "    </tr>\n",
              "  </tbody>\n",
              "</table>\n",
              "</div>\n",
              "      <button class=\"colab-df-convert\" onclick=\"convertToInteractive('df-22fa8677-7273-4b9c-b762-a10f772a8282')\"\n",
              "              title=\"Convert this dataframe to an interactive table.\"\n",
              "              style=\"display:none;\">\n",
              "        \n",
              "  <svg xmlns=\"http://www.w3.org/2000/svg\" height=\"24px\"viewBox=\"0 0 24 24\"\n",
              "       width=\"24px\">\n",
              "    <path d=\"M0 0h24v24H0V0z\" fill=\"none\"/>\n",
              "    <path d=\"M18.56 5.44l.94 2.06.94-2.06 2.06-.94-2.06-.94-.94-2.06-.94 2.06-2.06.94zm-11 1L8.5 8.5l.94-2.06 2.06-.94-2.06-.94L8.5 2.5l-.94 2.06-2.06.94zm10 10l.94 2.06.94-2.06 2.06-.94-2.06-.94-.94-2.06-.94 2.06-2.06.94z\"/><path d=\"M17.41 7.96l-1.37-1.37c-.4-.4-.92-.59-1.43-.59-.52 0-1.04.2-1.43.59L10.3 9.45l-7.72 7.72c-.78.78-.78 2.05 0 2.83L4 21.41c.39.39.9.59 1.41.59.51 0 1.02-.2 1.41-.59l7.78-7.78 2.81-2.81c.8-.78.8-2.07 0-2.86zM5.41 20L4 18.59l7.72-7.72 1.47 1.35L5.41 20z\"/>\n",
              "  </svg>\n",
              "      </button>\n",
              "      \n",
              "  <style>\n",
              "    .colab-df-container {\n",
              "      display:flex;\n",
              "      flex-wrap:wrap;\n",
              "      gap: 12px;\n",
              "    }\n",
              "\n",
              "    .colab-df-convert {\n",
              "      background-color: #E8F0FE;\n",
              "      border: none;\n",
              "      border-radius: 50%;\n",
              "      cursor: pointer;\n",
              "      display: none;\n",
              "      fill: #1967D2;\n",
              "      height: 32px;\n",
              "      padding: 0 0 0 0;\n",
              "      width: 32px;\n",
              "    }\n",
              "\n",
              "    .colab-df-convert:hover {\n",
              "      background-color: #E2EBFA;\n",
              "      box-shadow: 0px 1px 2px rgba(60, 64, 67, 0.3), 0px 1px 3px 1px rgba(60, 64, 67, 0.15);\n",
              "      fill: #174EA6;\n",
              "    }\n",
              "\n",
              "    [theme=dark] .colab-df-convert {\n",
              "      background-color: #3B4455;\n",
              "      fill: #D2E3FC;\n",
              "    }\n",
              "\n",
              "    [theme=dark] .colab-df-convert:hover {\n",
              "      background-color: #434B5C;\n",
              "      box-shadow: 0px 1px 3px 1px rgba(0, 0, 0, 0.15);\n",
              "      filter: drop-shadow(0px 1px 2px rgba(0, 0, 0, 0.3));\n",
              "      fill: #FFFFFF;\n",
              "    }\n",
              "  </style>\n",
              "\n",
              "      <script>\n",
              "        const buttonEl =\n",
              "          document.querySelector('#df-22fa8677-7273-4b9c-b762-a10f772a8282 button.colab-df-convert');\n",
              "        buttonEl.style.display =\n",
              "          google.colab.kernel.accessAllowed ? 'block' : 'none';\n",
              "\n",
              "        async function convertToInteractive(key) {\n",
              "          const element = document.querySelector('#df-22fa8677-7273-4b9c-b762-a10f772a8282');\n",
              "          const dataTable =\n",
              "            await google.colab.kernel.invokeFunction('convertToInteractive',\n",
              "                                                     [key], {});\n",
              "          if (!dataTable) return;\n",
              "\n",
              "          const docLinkHtml = 'Like what you see? Visit the ' +\n",
              "            '<a target=\"_blank\" href=https://colab.research.google.com/notebooks/data_table.ipynb>data table notebook</a>'\n",
              "            + ' to learn more about interactive tables.';\n",
              "          element.innerHTML = '';\n",
              "          dataTable['output_type'] = 'display_data';\n",
              "          await google.colab.output.renderOutput(dataTable, element);\n",
              "          const docLink = document.createElement('div');\n",
              "          docLink.innerHTML = docLinkHtml;\n",
              "          element.appendChild(docLink);\n",
              "        }\n",
              "      </script>\n",
              "    </div>\n",
              "  </div>\n",
              "  "
            ]
          },
          "metadata": {},
          "execution_count": 144
        }
      ]
    },
    {
      "cell_type": "code",
      "source": [
        "dataset.shape"
      ],
      "metadata": {
        "colab": {
          "base_uri": "https://localhost:8080/"
        },
        "id": "CRX5tMXWzvSP",
        "outputId": "9693dbd2-ec89-43ca-f365-fe0ec7a5aa7a"
      },
      "execution_count": 145,
      "outputs": [
        {
          "output_type": "execute_result",
          "data": {
            "text/plain": [
              "(1453, 15)"
            ]
          },
          "metadata": {},
          "execution_count": 145
        }
      ]
    },
    {
      "cell_type": "markdown",
      "source": [
        "**Data Exploration**\n",
        "**Data Cleaning and Preprocessing**"
      ],
      "metadata": {
        "id": "P36tEAoSBer5"
      }
    },
    {
      "cell_type": "code",
      "source": [
        "dataset.info()"
      ],
      "metadata": {
        "colab": {
          "base_uri": "https://localhost:8080/"
        },
        "id": "BLinqzW20Pij",
        "outputId": "b7576944-db16-4c27-8d5a-41d416f400be"
      },
      "execution_count": 146,
      "outputs": [
        {
          "output_type": "stream",
          "name": "stdout",
          "text": [
            "<class 'pandas.core.frame.DataFrame'>\n",
            "RangeIndex: 1453 entries, 0 to 1452\n",
            "Data columns (total 15 columns):\n",
            " #   Column          Non-Null Count  Dtype \n",
            "---  ------          --------------  ----- \n",
            " 0   yummy           1453 non-null   object\n",
            " 1   convenient      1453 non-null   object\n",
            " 2   spicy           1453 non-null   object\n",
            " 3   fattening       1453 non-null   object\n",
            " 4   greasy          1453 non-null   object\n",
            " 5   fast            1453 non-null   object\n",
            " 6   cheap           1453 non-null   object\n",
            " 7   tasty           1453 non-null   object\n",
            " 8   expensive       1453 non-null   object\n",
            " 9   healthy         1453 non-null   object\n",
            " 10  disgusting      1453 non-null   object\n",
            " 11  Like            1453 non-null   object\n",
            " 12  Age             1453 non-null   int64 \n",
            " 13  VisitFrequency  1453 non-null   object\n",
            " 14  Gender          1453 non-null   object\n",
            "dtypes: int64(1), object(14)\n",
            "memory usage: 170.4+ KB\n"
          ]
        }
      ]
    },
    {
      "cell_type": "code",
      "source": [
        "dataset.dtypes"
      ],
      "metadata": {
        "colab": {
          "base_uri": "https://localhost:8080/"
        },
        "id": "5bXVJ6jD0WT-",
        "outputId": "e6bbf61b-bb7b-4927-c45a-fbfe8a950f46"
      },
      "execution_count": 147,
      "outputs": [
        {
          "output_type": "execute_result",
          "data": {
            "text/plain": [
              "yummy             object\n",
              "convenient        object\n",
              "spicy             object\n",
              "fattening         object\n",
              "greasy            object\n",
              "fast              object\n",
              "cheap             object\n",
              "tasty             object\n",
              "expensive         object\n",
              "healthy           object\n",
              "disgusting        object\n",
              "Like              object\n",
              "Age                int64\n",
              "VisitFrequency    object\n",
              "Gender            object\n",
              "dtype: object"
            ]
          },
          "metadata": {},
          "execution_count": 147
        }
      ]
    },
    {
      "cell_type": "code",
      "source": [
        "dataset['Age'].unique()"
      ],
      "metadata": {
        "colab": {
          "base_uri": "https://localhost:8080/"
        },
        "id": "FLHyszPE0dO_",
        "outputId": "ad012e10-2159-43da-b961-3fa11c482a0d"
      },
      "execution_count": 149,
      "outputs": [
        {
          "output_type": "execute_result",
          "data": {
            "text/plain": [
              "array([61, 51, 62, 69, 49, 55, 56, 23, 58, 32, 53, 28, 65, 54, 67, 34, 31,\n",
              "       47, 37, 41, 36, 50, 39, 35, 20, 24, 44, 40, 48, 38, 57, 60, 66, 42,\n",
              "       26, 52, 29, 25, 22, 45, 18, 68, 43, 21, 27, 33, 63, 46, 59, 19, 64,\n",
              "       70, 30, 71])"
            ]
          },
          "metadata": {},
          "execution_count": 149
        }
      ]
    },
    {
      "cell_type": "code",
      "source": [
        "dataset['spicy'].unique()"
      ],
      "metadata": {
        "colab": {
          "base_uri": "https://localhost:8080/"
        },
        "id": "ZrXtKBeS1p4a",
        "outputId": "f6d3d6f3-2fda-4893-c823-5a6048ded269"
      },
      "execution_count": 150,
      "outputs": [
        {
          "output_type": "execute_result",
          "data": {
            "text/plain": [
              "array(['No', 'Yes'], dtype=object)"
            ]
          },
          "metadata": {},
          "execution_count": 150
        }
      ]
    },
    {
      "cell_type": "code",
      "source": [
        "dataset.isnull().sum()"
      ],
      "metadata": {
        "colab": {
          "base_uri": "https://localhost:8080/"
        },
        "id": "OLaidjAe12QU",
        "outputId": "7de717b0-6580-4210-bf84-bccb360266f8"
      },
      "execution_count": 151,
      "outputs": [
        {
          "output_type": "execute_result",
          "data": {
            "text/plain": [
              "yummy             0\n",
              "convenient        0\n",
              "spicy             0\n",
              "fattening         0\n",
              "greasy            0\n",
              "fast              0\n",
              "cheap             0\n",
              "tasty             0\n",
              "expensive         0\n",
              "healthy           0\n",
              "disgusting        0\n",
              "Like              0\n",
              "Age               0\n",
              "VisitFrequency    0\n",
              "Gender            0\n",
              "dtype: int64"
            ]
          },
          "metadata": {},
          "execution_count": 151
        }
      ]
    },
    {
      "cell_type": "code",
      "source": [
        "dataset.isnull().any()"
      ],
      "metadata": {
        "colab": {
          "base_uri": "https://localhost:8080/"
        },
        "id": "2_aOZ7xD2CHP",
        "outputId": "04ff24f3-0009-4004-fb1b-d7db84ea405c"
      },
      "execution_count": 152,
      "outputs": [
        {
          "output_type": "execute_result",
          "data": {
            "text/plain": [
              "yummy             False\n",
              "convenient        False\n",
              "spicy             False\n",
              "fattening         False\n",
              "greasy            False\n",
              "fast              False\n",
              "cheap             False\n",
              "tasty             False\n",
              "expensive         False\n",
              "healthy           False\n",
              "disgusting        False\n",
              "Like              False\n",
              "Age               False\n",
              "VisitFrequency    False\n",
              "Gender            False\n",
              "dtype: bool"
            ]
          },
          "metadata": {},
          "execution_count": 152
        }
      ]
    },
    {
      "cell_type": "code",
      "source": [
        "dataset['Gender'].value_counts()"
      ],
      "metadata": {
        "colab": {
          "base_uri": "https://localhost:8080/"
        },
        "id": "jJpuQGY9ZklS",
        "outputId": "b5dd7158-4f95-4916-d434-c4e4bca83207"
      },
      "execution_count": 153,
      "outputs": [
        {
          "output_type": "execute_result",
          "data": {
            "text/plain": [
              "Female    788\n",
              "Male      665\n",
              "Name: Gender, dtype: int64"
            ]
          },
          "metadata": {},
          "execution_count": 153
        }
      ]
    },
    {
      "cell_type": "code",
      "source": [
        "dataset['VisitFrequency'].value_counts()"
      ],
      "metadata": {
        "colab": {
          "base_uri": "https://localhost:8080/"
        },
        "id": "mlYtURlTZttU",
        "outputId": "53214ee2-c6ee-4c56-c3e5-c80b9c8da13a"
      },
      "execution_count": 154,
      "outputs": [
        {
          "output_type": "execute_result",
          "data": {
            "text/plain": [
              "Once a month             439\n",
              "Every three months       342\n",
              "Once a year              252\n",
              "Once a week              235\n",
              "Never                    131\n",
              "More than once a week     54\n",
              "Name: VisitFrequency, dtype: int64"
            ]
          },
          "metadata": {},
          "execution_count": 154
        }
      ]
    },
    {
      "cell_type": "code",
      "source": [
        "dataset.columns"
      ],
      "metadata": {
        "colab": {
          "base_uri": "https://localhost:8080/"
        },
        "id": "c0s_eeDX196l",
        "outputId": "3752e261-b58b-49e1-acdf-2767506546aa"
      },
      "execution_count": 155,
      "outputs": [
        {
          "output_type": "execute_result",
          "data": {
            "text/plain": [
              "Index(['yummy', 'convenient', 'spicy', 'fattening', 'greasy', 'fast', 'cheap',\n",
              "       'tasty', 'expensive', 'healthy', 'disgusting', 'Like', 'Age',\n",
              "       'VisitFrequency', 'Gender'],\n",
              "      dtype='object')"
            ]
          },
          "metadata": {},
          "execution_count": 155
        }
      ]
    },
    {
      "cell_type": "markdown",
      "source": [
        "**Data Visualization**"
      ],
      "metadata": {
        "id": "s58W0L74BtCt"
      }
    },
    {
      "cell_type": "code",
      "source": [
        "sns.heatmap(dataset.isnull(), yticklabels=False)"
      ],
      "metadata": {
        "colab": {
          "base_uri": "https://localhost:8080/",
          "height": 469
        },
        "id": "8UIqRTdi2I8W",
        "outputId": "b50779d3-df4f-4251-a6e3-712f814849fe"
      },
      "execution_count": 156,
      "outputs": [
        {
          "output_type": "execute_result",
          "data": {
            "text/plain": [
              "<matplotlib.axes._subplots.AxesSubplot at 0x7f250e857110>"
            ]
          },
          "metadata": {},
          "execution_count": 156
        },
        {
          "output_type": "display_data",
          "data": {
            "text/plain": [
              "<Figure size 720x432 with 2 Axes>"
            ],
            "image/png": "[encoded data removed]"
          },
          "metadata": {}
        }
      ]
    },
    {
      "cell_type": "code",
      "source": [
        "sns.barplot(dataset['Age'],dataset['healthy'])"
      ],
      "metadata": {
        "colab": {
          "base_uri": "https://localhost:8080/",
          "height": 505
        },
        "id": "loFG_tJw2YgC",
        "outputId": "b686e978-e0c3-4315-8629-0a729d4db637"
      },
      "execution_count": 157,
      "outputs": [
        {
          "output_type": "stream",
          "name": "stderr",
          "text": [
            "/usr/local/lib/python3.7/dist-packages/seaborn/_decorators.py:43: FutureWarning:\n",
            "\n",
            "Pass the following variables as keyword args: x, y. From version 0.12, the only valid positional argument will be `data`, and passing other arguments without an explicit keyword will result in an error or misinterpretation.\n",
            "\n"
          ]
        },
        {
          "output_type": "execute_result",
          "data": {
            "text/plain": [
              "<matplotlib.axes._subplots.AxesSubplot at 0x7f250c726750>"
            ]
          },
          "metadata": {},
          "execution_count": 157
        },
        {
          "output_type": "display_data",
          "data": {
            "text/plain": [
              "<Figure size 720x432 with 1 Axes>"
            ],
            "image/png": "[encoded data removed]"
          },
          "metadata": {}
        }
      ]
    },
    {
      "cell_type": "code",
      "source": [
        "sns.displot(dataset['Age'])"
      ],
      "metadata": {
        "colab": {
          "base_uri": "https://localhost:8080/",
          "height": 383
        },
        "id": "temHgo4u2hJ3",
        "outputId": "4721cb48-4829-4a0f-810d-0c2a4ff99ab5"
      },
      "execution_count": 158,
      "outputs": [
        {
          "output_type": "execute_result",
          "data": {
            "text/plain": [
              "<seaborn.axisgrid.FacetGrid at 0x7f250c82a3d0>"
            ]
          },
          "metadata": {},
          "execution_count": 158
        },
        {
          "output_type": "display_data",
          "data": {
            "text/plain": [
              "<Figure size 360x360 with 1 Axes>"
            ],
            "image/png": "[encoded data removed]"
          },
          "metadata": {}
        }
      ]
    },
    {
      "cell_type": "code",
      "source": [
        "sns.boxplot(data = data, x = 'yummy', y = 'Age', hue='Gender', palette='husl')\n",
        "plt.legend(bbox_to_anchor = (1,1))"
      ],
      "metadata": {
        "colab": {
          "base_uri": "https://localhost:8080/",
          "height": 412
        },
        "id": "bx0T9EI9zcRe",
        "outputId": "f5c9fd45-9118-4bbf-f30f-23d1495e5245"
      },
      "execution_count": 159,
      "outputs": [
        {
          "output_type": "execute_result",
          "data": {
            "text/plain": [
              "<matplotlib.legend.Legend at 0x7f250ff8bf90>"
            ]
          },
          "metadata": {},
          "execution_count": 159
        },
        {
          "output_type": "display_data",
          "data": {
            "text/plain": [
              "<Figure size 720x432 with 1 Axes>"
            ],
            "image/png": "[encoded data removed]"
          },
          "metadata": {}
        }
      ]
    },
    {
      "cell_type": "code",
      "source": [
        "sns.boxplot(data = data, x = 'yummy', y = 'Age', hue='VisitFrequency',  palette='RdPu')\n",
        "plt.legend(bbox_to_anchor = (1,1))"
      ],
      "metadata": {
        "colab": {
          "base_uri": "https://localhost:8080/",
          "height": 412
        },
        "id": "D9eB_P_Q1vFc",
        "outputId": "c6b518b6-0adc-4f50-d188-4bd7fc01ed27"
      },
      "execution_count": 160,
      "outputs": [
        {
          "output_type": "execute_result",
          "data": {
            "text/plain": [
              "<matplotlib.legend.Legend at 0x7f25100a6b50>"
            ]
          },
          "metadata": {},
          "execution_count": 160
        },
        {
          "output_type": "display_data",
          "data": {
            "text/plain": [
              "<Figure size 720x432 with 1 Axes>"
            ],
            "image/png": "[encoded data removed]"
          },
          "metadata": {}
        }
      ]
    },
    {
      "cell_type": "code",
      "source": [
        "data1 = data.copy()"
      ],
      "metadata": {
        "id": "T7h974ls4LTC"
      },
      "execution_count": 161,
      "outputs": []
    },
    {
      "cell_type": "code",
      "source": [
        "data1 = data1.iloc[:,0:-4]"
      ],
      "metadata": {
        "id": "wuasSWVo4V3Z"
      },
      "execution_count": 162,
      "outputs": []
    },
    {
      "cell_type": "code",
      "source": [
        "data1.head()"
      ],
      "metadata": {
        "colab": {
          "base_uri": "https://localhost:8080/",
          "height": 206
        },
        "id": "BeeA7JdY4ykf",
        "outputId": "dd195101-912c-4b9f-c070-f04b7a774f70"
      },
      "execution_count": 163,
      "outputs": [
        {
          "output_type": "execute_result",
          "data": {
            "text/plain": [
              "  yummy convenient spicy fattening greasy fast cheap tasty expensive healthy  \\\n",
              "0    No        Yes    No       Yes     No  Yes   Yes    No       Yes      No   \n",
              "1   Yes        Yes    No       Yes    Yes  Yes   Yes   Yes       Yes      No   \n",
              "2    No        Yes   Yes       Yes    Yes  Yes    No   Yes       Yes     Yes   \n",
              "3   Yes        Yes    No       Yes    Yes  Yes   Yes   Yes        No      No   \n",
              "4    No        Yes    No       Yes    Yes  Yes   Yes    No        No     Yes   \n",
              "\n",
              "  disgusting  \n",
              "0         No  \n",
              "1         No  \n",
              "2         No  \n",
              "3        Yes  \n",
              "4         No  "
            ],
            "text/html": [
              "\n",
              "  <div id=\"df-2cb57fb8-5fa3-4660-be84-6e6ea00b46b3\">\n",
              "    <div class=\"colab-df-container\">\n",
              "      <div>\n",
              "<style scoped>\n",
              "    .dataframe tbody tr th:only-of-type {\n",
              "        vertical-align: middle;\n",
              "    }\n",
              "\n",
              "    .dataframe tbody tr th {\n",
              "        vertical-align: top;\n",
              "    }\n",
              "\n",
              "    .dataframe thead th {\n",
              "        text-align: right;\n",
              "    }\n",
              "</style>\n",
              "<table border=\"1\" class=\"dataframe\">\n",
              "  <thead>\n",
              "    <tr style=\"text-align: right;\">\n",
              "      <th></th>\n",
              "      <th>yummy</th>\n",
              "      <th>convenient</th>\n",
              "      <th>spicy</th>\n",
              "      <th>fattening</th>\n",
              "      <th>greasy</th>\n",
              "      <th>fast</th>\n",
              "      <th>cheap</th>\n",
              "      <th>tasty</th>\n",
              "      <th>expensive</th>\n",
              "      <th>healthy</th>\n",
              "      <th>disgusting</th>\n",
              "    </tr>\n",
              "  </thead>\n",
              "  <tbody>\n",
              "    <tr>\n",
              "      <th>0</th>\n",
              "      <td>No</td>\n",
              "      <td>Yes</td>\n",
              "      <td>No</td>\n",
              "      <td>Yes</td>\n",
              "      <td>No</td>\n",
              "      <td>Yes</td>\n",
              "      <td>Yes</td>\n",
              "      <td>No</td>\n",
              "      <td>Yes</td>\n",
              "      <td>No</td>\n",
              "      <td>No</td>\n",
              "    </tr>\n",
              "    <tr>\n",
              "      <th>1</th>\n",
              "      <td>Yes</td>\n",
              "      <td>Yes</td>\n",
              "      <td>No</td>\n",
              "      <td>Yes</td>\n",
              "      <td>Yes</td>\n",
              "      <td>Yes</td>\n",
              "      <td>Yes</td>\n",
              "      <td>Yes</td>\n",
              "      <td>Yes</td>\n",
              "      <td>No</td>\n",
              "      <td>No</td>\n",
              "    </tr>\n",
              "    <tr>\n",
              "      <th>2</th>\n",
              "      <td>No</td>\n",
              "      <td>Yes</td>\n",
              "      <td>Yes</td>\n",
              "      <td>Yes</td>\n",
              "      <td>Yes</td>\n",
              "      <td>Yes</td>\n",
              "      <td>No</td>\n",
              "      <td>Yes</td>\n",
              "      <td>Yes</td>\n",
              "      <td>Yes</td>\n",
              "      <td>No</td>\n",
              "    </tr>\n",
              "    <tr>\n",
              "      <th>3</th>\n",
              "      <td>Yes</td>\n",
              "      <td>Yes</td>\n",
              "      <td>No</td>\n",
              "      <td>Yes</td>\n",
              "      <td>Yes</td>\n",
              "      <td>Yes</td>\n",
              "      <td>Yes</td>\n",
              "      <td>Yes</td>\n",
              "      <td>No</td>\n",
              "      <td>No</td>\n",
              "      <td>Yes</td>\n",
              "    </tr>\n",
              "    <tr>\n",
              "      <th>4</th>\n",
              "      <td>No</td>\n",
              "      <td>Yes</td>\n",
              "      <td>No</td>\n",
              "      <td>Yes</td>\n",
              "      <td>Yes</td>\n",
              "      <td>Yes</td>\n",
              "      <td>Yes</td>\n",
              "      <td>No</td>\n",
              "      <td>No</td>\n",
              "      <td>Yes</td>\n",
              "      <td>No</td>\n",
              "    </tr>\n",
              "  </tbody>\n",
              "</table>\n",
              "</div>\n",
              "      <button class=\"colab-df-convert\" onclick=\"convertToInteractive('df-2cb57fb8-5fa3-4660-be84-6e6ea00b46b3')\"\n",
              "              title=\"Convert this dataframe to an interactive table.\"\n",
              "              style=\"display:none;\">\n",
              "        \n",
              "  <svg xmlns=\"http://www.w3.org/2000/svg\" height=\"24px\"viewBox=\"0 0 24 24\"\n",
              "       width=\"24px\">\n",
              "    <path d=\"M0 0h24v24H0V0z\" fill=\"none\"/>\n",
              "    <path d=\"M18.56 5.44l.94 2.06.94-2.06 2.06-.94-2.06-.94-.94-2.06-.94 2.06-2.06.94zm-11 1L8.5 8.5l.94-2.06 2.06-.94-2.06-.94L8.5 2.5l-.94 2.06-2.06.94zm10 10l.94 2.06.94-2.06 2.06-.94-2.06-.94-.94-2.06-.94 2.06-2.06.94z\"/><path d=\"M17.41 7.96l-1.37-1.37c-.4-.4-.92-.59-1.43-.59-.52 0-1.04.2-1.43.59L10.3 9.45l-7.72 7.72c-.78.78-.78 2.05 0 2.83L4 21.41c.39.39.9.59 1.41.59.51 0 1.02-.2 1.41-.59l7.78-7.78 2.81-2.81c.8-.78.8-2.07 0-2.86zM5.41 20L4 18.59l7.72-7.72 1.47 1.35L5.41 20z\"/>\n",
              "  </svg>\n",
              "      </button>\n",
              "      \n",
              "  <style>\n",
              "    .colab-df-container {\n",
              "      display:flex;\n",
              "      flex-wrap:wrap;\n",
              "      gap: 12px;\n",
              "    }\n",
              "\n",
              "    .colab-df-convert {\n",
              "      background-color: #E8F0FE;\n",
              "      border: none;\n",
              "      border-radius: 50%;\n",
              "      cursor: pointer;\n",
              "      display: none;\n",
              "      fill: #1967D2;\n",
              "      height: 32px;\n",
              "      padding: 0 0 0 0;\n",
              "      width: 32px;\n",
              "    }\n",
              "\n",
              "    .colab-df-convert:hover {\n",
              "      background-color: #E2EBFA;\n",
              "      box-shadow: 0px 1px 2px rgba(60, 64, 67, 0.3), 0px 1px 3px 1px rgba(60, 64, 67, 0.15);\n",
              "      fill: #174EA6;\n",
              "    }\n",
              "\n",
              "    [theme=dark] .colab-df-convert {\n",
              "      background-color: #3B4455;\n",
              "      fill: #D2E3FC;\n",
              "    }\n",
              "\n",
              "    [theme=dark] .colab-df-convert:hover {\n",
              "      background-color: #434B5C;\n",
              "      box-shadow: 0px 1px 3px 1px rgba(0, 0, 0, 0.15);\n",
              "      filter: drop-shadow(0px 1px 2px rgba(0, 0, 0, 0.3));\n",
              "      fill: #FFFFFF;\n",
              "    }\n",
              "  </style>\n",
              "\n",
              "      <script>\n",
              "        const buttonEl =\n",
              "          document.querySelector('#df-2cb57fb8-5fa3-4660-be84-6e6ea00b46b3 button.colab-df-convert');\n",
              "        buttonEl.style.display =\n",
              "          google.colab.kernel.accessAllowed ? 'block' : 'none';\n",
              "\n",
              "        async function convertToInteractive(key) {\n",
              "          const element = document.querySelector('#df-2cb57fb8-5fa3-4660-be84-6e6ea00b46b3');\n",
              "          const dataTable =\n",
              "            await google.colab.kernel.invokeFunction('convertToInteractive',\n",
              "                                                     [key], {});\n",
              "          if (!dataTable) return;\n",
              "\n",
              "          const docLinkHtml = 'Like what you see? Visit the ' +\n",
              "            '<a target=\"_blank\" href=https://colab.research.google.com/notebooks/data_table.ipynb>data table notebook</a>'\n",
              "            + ' to learn more about interactive tables.';\n",
              "          element.innerHTML = '';\n",
              "          dataTable['output_type'] = 'display_data';\n",
              "          await google.colab.output.renderOutput(dataTable, element);\n",
              "          const docLink = document.createElement('div');\n",
              "          docLink.innerHTML = docLinkHtml;\n",
              "          element.appendChild(docLink);\n",
              "        }\n",
              "      </script>\n",
              "    </div>\n",
              "  </div>\n",
              "  "
            ]
          },
          "metadata": {},
          "execution_count": 163
        }
      ]
    },
    {
      "cell_type": "code",
      "source": [
        "data1.columns"
      ],
      "metadata": {
        "colab": {
          "base_uri": "https://localhost:8080/"
        },
        "id": "KwlUwBp-4-8V",
        "outputId": "ccc61c42-a38f-4d1c-b500-e726edc964cd"
      },
      "execution_count": 164,
      "outputs": [
        {
          "output_type": "execute_result",
          "data": {
            "text/plain": [
              "Index(['yummy', 'convenient', 'spicy', 'fattening', 'greasy', 'fast', 'cheap',\n",
              "       'tasty', 'expensive', 'healthy', 'disgusting'],\n",
              "      dtype='object')"
            ]
          },
          "metadata": {},
          "execution_count": 164
        }
      ]
    },
    {
      "cell_type": "code",
      "source": [
        "data2 = data1.copy()"
      ],
      "metadata": {
        "id": "kUBVpUEu5BWm"
      },
      "execution_count": 165,
      "outputs": []
    },
    {
      "cell_type": "code",
      "source": [
        "dat1 = data.replace(to_replace = ['Yes','No'],value = [1,0])\n",
        "dat1"
      ],
      "metadata": {
        "colab": {
          "base_uri": "https://localhost:8080/",
          "height": 424
        },
        "id": "J03XPpsq5Ere",
        "outputId": "2e56e0e2-186c-45aa-cba5-0c238b70c79e"
      },
      "execution_count": 166,
      "outputs": [
        {
          "output_type": "execute_result",
          "data": {
            "text/plain": [
              "      yummy  convenient  spicy  fattening  greasy  fast  cheap  tasty  \\\n",
              "0         0           1      0          1       0     1      1      0   \n",
              "1         1           1      0          1       1     1      1      1   \n",
              "2         0           1      1          1       1     1      0      1   \n",
              "3         1           1      0          1       1     1      1      1   \n",
              "4         0           1      0          1       1     1      1      0   \n",
              "...     ...         ...    ...        ...     ...   ...    ...    ...   \n",
              "1448      0           1      0          1       1     0      0      0   \n",
              "1449      1           1      0          1       0     0      1      1   \n",
              "1450      1           1      0          1       0     1      0      1   \n",
              "1451      1           1      0          0       0     1      1      1   \n",
              "1452      0           1      0          1       1     0      0      0   \n",
              "\n",
              "      expensive  healthy  disgusting          Like  Age      VisitFrequency  \\\n",
              "0             1        0           0            -3   61  Every three months   \n",
              "1             1        0           0            +2   51  Every three months   \n",
              "2             1        1           0            +1   62  Every three months   \n",
              "3             0        0           1            +4   69         Once a week   \n",
              "4             0        1           0            +2   49        Once a month   \n",
              "...         ...      ...         ...           ...  ...                 ...   \n",
              "1448          1        0           1  I hate it!-5   47         Once a year   \n",
              "1449          0        1           0            +2   36         Once a week   \n",
              "1450          1        0           0            +3   52        Once a month   \n",
              "1451          0        1           0            +4   41  Every three months   \n",
              "1452          1        0           1            -3   30  Every three months   \n",
              "\n",
              "      Gender  \n",
              "0     Female  \n",
              "1     Female  \n",
              "2     Female  \n",
              "3     Female  \n",
              "4       Male  \n",
              "...      ...  \n",
              "1448    Male  \n",
              "1449  Female  \n",
              "1450  Female  \n",
              "1451    Male  \n",
              "1452    Male  \n",
              "\n",
              "[1453 rows x 15 columns]"
            ],
            "text/html": [
              "\n",
              "  <div id=\"df-b234d1a0-bb86-4acb-82bd-bdfcadd302a7\">\n",
              "    <div class=\"colab-df-container\">\n",
              "      <div>\n",
              "<style scoped>\n",
              "    .dataframe tbody tr th:only-of-type {\n",
              "        vertical-align: middle;\n",
              "    }\n",
              "\n",
              "    .dataframe tbody tr th {\n",
              "        vertical-align: top;\n",
              "    }\n",
              "\n",
              "    .dataframe thead th {\n",
              "        text-align: right;\n",
              "    }\n",
              "</style>\n",
              "<table border=\"1\" class=\"dataframe\">\n",
              "  <thead>\n",
              "    <tr style=\"text-align: right;\">\n",
              "      <th></th>\n",
              "      <th>yummy</th>\n",
              "      <th>convenient</th>\n",
              "      <th>spicy</th>\n",
              "      <th>fattening</th>\n",
              "      <th>greasy</th>\n",
              "      <th>fast</th>\n",
              "      <th>cheap</th>\n",
              "      <th>tasty</th>\n",
              "      <th>expensive</th>\n",
              "      <th>healthy</th>\n",
              "      <th>disgusting</th>\n",
              "      <th>Like</th>\n",
              "      <th>Age</th>\n",
              "      <th>VisitFrequency</th>\n",
              "      <th>Gender</th>\n",
              "    </tr>\n",
              "  </thead>\n",
              "  <tbody>\n",
              "    <tr>\n",
              "      <th>0</th>\n",
              "      <td>0</td>\n",
              "      <td>1</td>\n",
              "      <td>0</td>\n",
              "      <td>1</td>\n",
              "      <td>0</td>\n",
              "      <td>1</td>\n",
              "      <td>1</td>\n",
              "      <td>0</td>\n",
              "      <td>1</td>\n",
              "      <td>0</td>\n",
              "      <td>0</td>\n",
              "      <td>-3</td>\n",
              "      <td>61</td>\n",
              "      <td>Every three months</td>\n",
              "      <td>Female</td>\n",
              "    </tr>\n",
              "    <tr>\n",
              "      <th>1</th>\n",
              "      <td>1</td>\n",
              "      <td>1</td>\n",
              "      <td>0</td>\n",
              "      <td>1</td>\n",
              "      <td>1</td>\n",
              "      <td>1</td>\n",
              "      <td>1</td>\n",
              "      <td>1</td>\n",
              "      <td>1</td>\n",
              "      <td>0</td>\n",
              "      <td>0</td>\n",
              "      <td>+2</td>\n",
              "      <td>51</td>\n",
              "      <td>Every three months</td>\n",
              "      <td>Female</td>\n",
              "    </tr>\n",
              "    <tr>\n",
              "      <th>2</th>\n",
              "      <td>0</td>\n",
              "      <td>1</td>\n",
              "      <td>1</td>\n",
              "      <td>1</td>\n",
              "      <td>1</td>\n",
              "      <td>1</td>\n",
              "      <td>0</td>\n",
              "      <td>1</td>\n",
              "      <td>1</td>\n",
              "      <td>1</td>\n",
              "      <td>0</td>\n",
              "      <td>+1</td>\n",
              "      <td>62</td>\n",
              "      <td>Every three months</td>\n",
              "      <td>Female</td>\n",
              "    </tr>\n",
              "    <tr>\n",
              "      <th>3</th>\n",
              "      <td>1</td>\n",
              "      <td>1</td>\n",
              "      <td>0</td>\n",
              "      <td>1</td>\n",
              "      <td>1</td>\n",
              "      <td>1</td>\n",
              "      <td>1</td>\n",
              "      <td>1</td>\n",
              "      <td>0</td>\n",
              "      <td>0</td>\n",
              "      <td>1</td>\n",
              "      <td>+4</td>\n",
              "      <td>69</td>\n",
              "      <td>Once a week</td>\n",
              "      <td>Female</td>\n",
              "    </tr>\n",
              "    <tr>\n",
              "      <th>4</th>\n",
              "      <td>0</td>\n",
              "      <td>1</td>\n",
              "      <td>0</td>\n",
              "      <td>1</td>\n",
              "      <td>1</td>\n",
              "      <td>1</td>\n",
              "      <td>1</td>\n",
              "      <td>0</td>\n",
              "      <td>0</td>\n",
              "      <td>1</td>\n",
              "      <td>0</td>\n",
              "      <td>+2</td>\n",
              "      <td>49</td>\n",
              "      <td>Once a month</td>\n",
              "      <td>Male</td>\n",
              "    </tr>\n",
              "    <tr>\n",
              "      <th>...</th>\n",
              "      <td>...</td>\n",
              "      <td>...</td>\n",
              "      <td>...</td>\n",
              "      <td>...</td>\n",
              "      <td>...</td>\n",
              "      <td>...</td>\n",
              "      <td>...</td>\n",
              "      <td>...</td>\n",
              "      <td>...</td>\n",
              "      <td>...</td>\n",
              "      <td>...</td>\n",
              "      <td>...</td>\n",
              "      <td>...</td>\n",
              "      <td>...</td>\n",
              "      <td>...</td>\n",
              "    </tr>\n",
              "    <tr>\n",
              "      <th>1448</th>\n",
              "      <td>0</td>\n",
              "      <td>1</td>\n",
              "      <td>0</td>\n",
              "      <td>1</td>\n",
              "      <td>1</td>\n",
              "      <td>0</td>\n",
              "      <td>0</td>\n",
              "      <td>0</td>\n",
              "      <td>1</td>\n",
              "      <td>0</td>\n",
              "      <td>1</td>\n",
              "      <td>I hate it!-5</td>\n",
              "      <td>47</td>\n",
              "      <td>Once a year</td>\n",
              "      <td>Male</td>\n",
              "    </tr>\n",
              "    <tr>\n",
              "      <th>1449</th>\n",
              "      <td>1</td>\n",
              "      <td>1</td>\n",
              "      <td>0</td>\n",
              "      <td>1</td>\n",
              "      <td>0</td>\n",
              "      <td>0</td>\n",
              "      <td>1</td>\n",
              "      <td>1</td>\n",
              "      <td>0</td>\n",
              "      <td>1</td>\n",
              "      <td>0</td>\n",
              "      <td>+2</td>\n",
              "      <td>36</td>\n",
              "      <td>Once a week</td>\n",
              "      <td>Female</td>\n",
              "    </tr>\n",
              "    <tr>\n",
              "      <th>1450</th>\n",
              "      <td>1</td>\n",
              "      <td>1</td>\n",
              "      <td>0</td>\n",
              "      <td>1</td>\n",
              "      <td>0</td>\n",
              "      <td>1</td>\n",
              "      <td>0</td>\n",
              "      <td>1</td>\n",
              "      <td>1</td>\n",
              "      <td>0</td>\n",
              "      <td>0</td>\n",
              "      <td>+3</td>\n",
              "      <td>52</td>\n",
              "      <td>Once a month</td>\n",
              "      <td>Female</td>\n",
              "    </tr>\n",
              "    <tr>\n",
              "      <th>1451</th>\n",
              "      <td>1</td>\n",
              "      <td>1</td>\n",
              "      <td>0</td>\n",
              "      <td>0</td>\n",
              "      <td>0</td>\n",
              "      <td>1</td>\n",
              "      <td>1</td>\n",
              "      <td>1</td>\n",
              "      <td>0</td>\n",
              "      <td>1</td>\n",
              "      <td>0</td>\n",
              "      <td>+4</td>\n",
              "      <td>41</td>\n",
              "      <td>Every three months</td>\n",
              "      <td>Male</td>\n",
              "    </tr>\n",
              "    <tr>\n",
              "      <th>1452</th>\n",
              "      <td>0</td>\n",
              "      <td>1</td>\n",
              "      <td>0</td>\n",
              "      <td>1</td>\n",
              "      <td>1</td>\n",
              "      <td>0</td>\n",
              "      <td>0</td>\n",
              "      <td>0</td>\n",
              "      <td>1</td>\n",
              "      <td>0</td>\n",
              "      <td>1</td>\n",
              "      <td>-3</td>\n",
              "      <td>30</td>\n",
              "      <td>Every three months</td>\n",
              "      <td>Male</td>\n",
              "    </tr>\n",
              "  </tbody>\n",
              "</table>\n",
              "<p>1453 rows × 15 columns</p>\n",
              "</div>\n",
              "      <button class=\"colab-df-convert\" onclick=\"convertToInteractive('df-b234d1a0-bb86-4acb-82bd-bdfcadd302a7')\"\n",
              "              title=\"Convert this dataframe to an interactive table.\"\n",
              "              style=\"display:none;\">\n",
              "        \n",
              "  <svg xmlns=\"http://www.w3.org/2000/svg\" height=\"24px\"viewBox=\"0 0 24 24\"\n",
              "       width=\"24px\">\n",
              "    <path d=\"M0 0h24v24H0V0z\" fill=\"none\"/>\n",
              "    <path d=\"M18.56 5.44l.94 2.06.94-2.06 2.06-.94-2.06-.94-.94-2.06-.94 2.06-2.06.94zm-11 1L8.5 8.5l.94-2.06 2.06-.94-2.06-.94L8.5 2.5l-.94 2.06-2.06.94zm10 10l.94 2.06.94-2.06 2.06-.94-2.06-.94-.94-2.06-.94 2.06-2.06.94z\"/><path d=\"M17.41 7.96l-1.37-1.37c-.4-.4-.92-.59-1.43-.59-.52 0-1.04.2-1.43.59L10.3 9.45l-7.72 7.72c-.78.78-.78 2.05 0 2.83L4 21.41c.39.39.9.59 1.41.59.51 0 1.02-.2 1.41-.59l7.78-7.78 2.81-2.81c.8-.78.8-2.07 0-2.86zM5.41 20L4 18.59l7.72-7.72 1.47 1.35L5.41 20z\"/>\n",
              "  </svg>\n",
              "      </button>\n",
              "      \n",
              "  <style>\n",
              "    .colab-df-container {\n",
              "      display:flex;\n",
              "      flex-wrap:wrap;\n",
              "      gap: 12px;\n",
              "    }\n",
              "\n",
              "    .colab-df-convert {\n",
              "      background-color: #E8F0FE;\n",
              "      border: none;\n",
              "      border-radius: 50%;\n",
              "      cursor: pointer;\n",
              "      display: none;\n",
              "      fill: #1967D2;\n",
              "      height: 32px;\n",
              "      padding: 0 0 0 0;\n",
              "      width: 32px;\n",
              "    }\n",
              "\n",
              "    .colab-df-convert:hover {\n",
              "      background-color: #E2EBFA;\n",
              "      box-shadow: 0px 1px 2px rgba(60, 64, 67, 0.3), 0px 1px 3px 1px rgba(60, 64, 67, 0.15);\n",
              "      fill: #174EA6;\n",
              "    }\n",
              "\n",
              "    [theme=dark] .colab-df-convert {\n",
              "      background-color: #3B4455;\n",
              "      fill: #D2E3FC;\n",
              "    }\n",
              "\n",
              "    [theme=dark] .colab-df-convert:hover {\n",
              "      background-color: #434B5C;\n",
              "      box-shadow: 0px 1px 3px 1px rgba(0, 0, 0, 0.15);\n",
              "      filter: drop-shadow(0px 1px 2px rgba(0, 0, 0, 0.3));\n",
              "      fill: #FFFFFF;\n",
              "    }\n",
              "  </style>\n",
              "\n",
              "      <script>\n",
              "        const buttonEl =\n",
              "          document.querySelector('#df-b234d1a0-bb86-4acb-82bd-bdfcadd302a7 button.colab-df-convert');\n",
              "        buttonEl.style.display =\n",
              "          google.colab.kernel.accessAllowed ? 'block' : 'none';\n",
              "\n",
              "        async function convertToInteractive(key) {\n",
              "          const element = document.querySelector('#df-b234d1a0-bb86-4acb-82bd-bdfcadd302a7');\n",
              "          const dataTable =\n",
              "            await google.colab.kernel.invokeFunction('convertToInteractive',\n",
              "                                                     [key], {});\n",
              "          if (!dataTable) return;\n",
              "\n",
              "          const docLinkHtml = 'Like what you see? Visit the ' +\n",
              "            '<a target=\"_blank\" href=https://colab.research.google.com/notebooks/data_table.ipynb>data table notebook</a>'\n",
              "            + ' to learn more about interactive tables.';\n",
              "          element.innerHTML = '';\n",
              "          dataTable['output_type'] = 'display_data';\n",
              "          await google.colab.output.renderOutput(dataTable, element);\n",
              "          const docLink = document.createElement('div');\n",
              "          docLink.innerHTML = docLinkHtml;\n",
              "          element.appendChild(docLink);\n",
              "        }\n",
              "      </script>\n",
              "    </div>\n",
              "  </div>\n",
              "  "
            ]
          },
          "metadata": {},
          "execution_count": 166
        }
      ]
    },
    {
      "cell_type": "code",
      "source": [
        "plt.figure(figsize=(7,7))\n",
        "sns.heatmap(dat1.corr(), annot=True, cmap=\"PiYG\")\n",
        "plt.show()"
      ],
      "metadata": {
        "colab": {
          "base_uri": "https://localhost:8080/",
          "height": 487
        },
        "id": "Pin324fF5JHK",
        "outputId": "437a38ff-f844-40b5-8d4d-0f4ff08939b5"
      },
      "execution_count": 167,
      "outputs": [
        {
          "output_type": "display_data",
          "data": {
            "text/plain": [
              "<Figure size 504x504 with 2 Axes>"
            ],
            "image/png": "[encoded data removed]"
          },
          "metadata": {}
        }
      ]
    },
    {
      "cell_type": "code",
      "source": [
        "for col in (data2.columns):\n",
        "    data2[col] = data2[col].map({'Yes':1, 'No':0})"
      ],
      "metadata": {
        "id": "wLIBgKEf5LNd"
      },
      "execution_count": 168,
      "outputs": []
    },
    {
      "cell_type": "code",
      "source": [
        "data2.mean()"
      ],
      "metadata": {
        "colab": {
          "base_uri": "https://localhost:8080/"
        },
        "id": "sh3eydu45Ogz",
        "outputId": "771179e6-aba4-44cd-ffbb-b6ed2c5eba63"
      },
      "execution_count": 169,
      "outputs": [
        {
          "output_type": "execute_result",
          "data": {
            "text/plain": [
              "yummy         0.552650\n",
              "convenient    0.907777\n",
              "spicy         0.093599\n",
              "fattening     0.867171\n",
              "greasy        0.526497\n",
              "fast          0.900206\n",
              "cheap         0.598761\n",
              "tasty         0.644184\n",
              "expensive     0.357880\n",
              "healthy       0.198899\n",
              "disgusting    0.242946\n",
              "dtype: float64"
            ]
          },
          "metadata": {},
          "execution_count": 169
        }
      ]
    },
    {
      "cell_type": "markdown",
      "source": [
        "**Principal Component Analysis (PCA)**"
      ],
      "metadata": {
        "id": "xdB2IPIsB1-1"
      }
    },
    {
      "cell_type": "code",
      "source": [
        "import plotly.express as px\n",
        "from sklearn.decomposition import PCA\n",
        "from sklearn.preprocessing import StandardScaler"
      ],
      "metadata": {
        "id": "KeE3Kazc5S2B"
      },
      "execution_count": 170,
      "outputs": []
    },
    {
      "cell_type": "code",
      "source": [
        "pca = PCA(n_components=2)\n",
        "features = ['yummy', 'convenient', 'spicy', 'fattening', 'greasy', 'fast', 'cheap','tasty', 'expensive', 'healthy', 'disgusting']\n",
        "components = pca.fit_transform(data2)\n",
        "loadings = pca.components_.T*np.sqrt(pca.explained_variance_)\n",
        "fig = px.scatter(components, x=0, y=1)\n",
        "\n",
        "for i, feature in enumerate(features):\n",
        "    fig.add_shape(\n",
        "        type='line',\n",
        "        x0=0, y0=0,\n",
        "        x1=loadings[i, 0],\n",
        "        y1=loadings[i, 1]\n",
        "    )\n",
        "    fig.add_annotation(\n",
        "        x=loadings[i, 0],\n",
        "        y=loadings[i, 1],\n",
        "        ax=0, ay=0,\n",
        "        xanchor=\"center\",\n",
        "        yanchor=\"bottom\",\n",
        "        text=feature,\n",
        "    )\n",
        "fig.show()"
      ],
      "metadata": {
        "colab": {
          "base_uri": "https://localhost:8080/",
          "height": 542
        },
        "id": "BG8TE3RQ5gaF",
        "outputId": "e9e8bd98-5929-4561-fd64-115b9cd3a97e"
      },
      "execution_count": 171,
      "outputs": [
        {
          "output_type": "display_data",
          "data": {
            "text/html": [
              "<html>\n",
              "<head><meta charset=\"utf-8\" /></head>\n",
              "<body>\n",
              "    <div>            <script src=\"https://cdnjs.cloudflare.com/ajax/libs/mathjax/2.7.5/MathJax.js?config=TeX-AMS-MML_SVG\"></script><script type=\"text/javascript\">if (window.MathJax) {MathJax.Hub.Config({SVG: {font: \"STIX-Web\"}});}</script>                <script type=\"text/javascript\">window.PlotlyConfig = {MathJaxConfig: 'local'};</script>\n",
              "        <script src=\"https://cdn.plot.ly/plotly-2.8.3.min.js\"></script>                <div id=\"1162e421-7345-4ba8-88d8-8de1bb341a2a\" class=\"plotly-graph-div\" style=\"height:525px; width:100%;\"></div>            <script type=\"text/javascript\">                                    window.PLOTLYENV=window.PLOTLYENV || {};                                    if (document.getElementById(\"1162e421-7345-4ba8-88d8-8de1bb341a2a\")) {                    Plotly.newPlot(                        \"1162e421-7345-4ba8-88d8-8de1bb341a2a\",                        [{\"hovertemplate\":\"0=%{x}<br>1=%{y}<extra></extra>\",\"legendgroup\":\"\",\"marker\":{\"color\":\"#636efa\",\"symbol\":\"circle\"},\"mode\":\"markers\",\"name\":\"\",\"showlegend\":false,\"x\":[0.42536705579685585,-0.21863768045159793,0.37541475233063815,-0.17292648285263038,0.187057399531864,-0.8521221082036452,-0.4059614334289883,-0.5476794122116478,1.7055734494762518,0.11854824465940546,0.47107825339580933,0.4933011740184231,0.09632532403679174,-0.39960507182951666,0.7625529809078454,-0.8521221082036452,-0.5476794122116478,-0.3267251711241583,1.259894271047907,0.4933011740184231,0.4933011740184231,-0.5230803764435946,0.1497588873079483,-0.19225081293206336,-1.0658327287005704,0.2528762620212096,-0.17292648285263032,0.05272938217005997,0.3172795651242817,-1.0658327287005704,-0.5476794122116478,-0.7051309229564539,-0.5476794122116478,0.7755209493878066,-1.0658327287005704,0.7755209493878066,-1.0658327287005704,0.7755209493878066,0.9308525392878562,1.5970801961589098,0.07793039188479979,-1.0658327287005704,-1.0721890903000415,-0.5149361830926418,0.7755209493878066,-0.0639517331889767,-0.3679449978454507,-0.18589445133259158,-0.8521221082036452,-0.5476794122116478,1.4353922446593883,-0.0761654697388408,0.11854824465940546,1.1373059102668635,-1.1820644127240834,-0.3751886184360155,0.7755209493878066,0.400768020028789,-0.8521221082036452,-0.5476794122116478,-0.21049348710064478,-0.7613900327085732,-1.0658327287005704,1.0669956768998428,-0.5476794122116478,1.2926375001669128,0.7548145502016734,-0.0639517331889767,-0.5888992389329405,-0.8521221082036452,-0.11738529646013335,-1.1820644127240834,0.39953229175237964,-0.0707459224440182,-1.1820644127240834,1.5502418595762018,-0.8521221082036452,0.7625529809078454,0.11219188305993381,-1.1820644127240834,1.11270687449881,-0.3751886184360155,-0.3751886184360155,-1.1820644127240834,0.7508133243270853,-0.9683537922271583,0.15611524890742007,0.7039749877443771,-0.18589445133259158,-0.5294367380430665,-0.8521221082036452,-0.17292648285263032,1.7055734494762518,-0.3751886184360155,-0.7613900327085732,-0.21049348710064478,-0.0707459224440182,0.7379539451397922,1.0669956768998428,-0.8521221082036452,0.400768020028789,0.11854824465940546,-0.0639517331889767,-0.8584784698031169,-0.5149361830926418,0.7625529809078454,0.6017944273357647,0.5420045024651362,-0.8521221082036452,0.400768020028789,0.5356481408656647,-0.51583675585303,1.7055734494762518,-0.18589445133259158,1.1754889302171845,0.09632532403679174,-0.7677463943080448,-1.0658327287005704,0.7755209493878066,0.400768020028789,-1.1820644127240834,-0.2249940420510692,-0.39960507182951666,0.47107825339580933,-0.5476794122116478,0.29103903843503814,0.47107825339580933,-0.8521221082036452,0.187057399531864,-0.17292648285263032,-0.019906359986721765,0.7625529809078454,-0.8521221082036452,-0.5476794122116478,-0.0707459224440182,0.8469286948034457,-0.8521221082036452,-0.8521221082036452,-0.43918615889430657,-0.5476794122116478,-0.3751886184360155,0.7755209493878066,0.7625529809078454,0.3040070069149994,-0.3923478223115982,-0.8521221082036452,0.11854824465940546,-0.39960507182951666,1.4417486062588603,0.11854824465940546,1.7055734494762518,-1.1820644127240834,0.11854824465940546,-0.8521221082036452,-0.5540357738111196,-0.5476794122116478,-0.49142030245952883,0.11854824465940546,0.11854824465940546,0.5092612733461305,-0.0707459224440182,1.5970801961589098,-1.1820644127240834,1.5970801961589098,-1.1820644127240834,-1.1820644127240834,0.9444076312768572,-0.18589445133259158,-0.8521221082036452,-0.09516237583751937,-0.09516237583751937,-0.5149361830926418,-0.17292648285263032,0.44756268792075504,1.4417486062588603,1.4417486062588603,0.7755209493878066,1.2926375001669128,-0.4242041075975698,0.3172795651242817,0.9702346637860526,0.14113594887537093,0.9244961776883847,0.7755209493878066,0.15611524890742007,0.7625529809078454,-0.3751886184360155,0.09632532403679174,0.7755209493878066,-0.38060816573083794,-0.18589445133259158,-0.5476794122116478,-0.5476794122116478,-0.5476794122116478,-0.7613900327085732,0.7379539451397922,0.400768020028789,1.7055734494762518,-0.3751886184360155,-0.5476794122116478,-1.1820644127240834,-1.0721890903000415,0.5954817344270353,0.7755209493878066,0.08996896243732007,1.7055734494762518,-0.3751886184360155,1.5907238345594386,1.5438854979767298,1.1373059102668635,-0.3751886184360155,1.4417486062588603,-0.5540357738111196,-0.5476794122116478,-0.6311678671161555,0.2732341919220264,1.0393457926051983,-1.0658327287005704,0.2738798345594553,0.09632532403679174,-0.49142030245952883,-0.10200023378330315,-0.8521221082036452,1.1373059102668635,-0.6974361609410243,-0.0707459224440182,0.5891253728275638,-0.8521221082036452,1.0669956768998428,-0.5476794122116478,-0.8521221082036452,-0.5476794122116478,-0.8776217167320864,0.7755209493878066,-1.1820644127240834,0.09632532403679174,-1.1884207743235553,1.2926375001669128,0.36678906263337374,-0.8521221082036452,1.2926375001669128,0.7755209493878066,1.5970801961589098,0.13542522991332842,-0.30212613535610494,-0.11738529646013335,0.9444076312768572,-0.7613900327085732,0.11854824465940546,-1.1820644127240834,1.4353922446593883,-0.3869645273303097,-0.8521221082036452,0.11854824465940546,-1.0658327287005704,-0.8584784698031169,-0.0707459224440182,0.09632532403679174,-1.1820644127240834,-0.8521221082036452,-0.5149361830926418,-0.2844565429409432,-0.18589445133259158,0.5560996099288391,0.3040070069149994,0.9118556331891782,0.3944116584293172,-0.7031468799030671,-1.0658327287005704,-0.17292648285263032,0.3040070069149994,0.11854824465940546,-0.8521221082036452,-0.5476794122116478,0.400768020028789,1.0669956768998428,0.09632532403679174,-0.5476794122116478,-0.5476794122116478,0.09632532403679174,1.6992170878767798,-0.7613900327085732,0.22704149797674714,0.11219188305993381,-0.6967905183035953,-0.5476794122116478,0.9178845708078953,1.5970801961589098,0.7755209493878066,0.3172795651242817,0.25165691393684153,-0.21049348710064478,0.7625529809078454,0.5891253728275638,0.09632532403679174,-0.3751886184360155,-0.2844565429409432,-0.0761654697388408,-0.18589445133259158,-0.51583675585303,-0.9573394753832287,0.11854824465940546,0.11854824465940546,0.22704149797674714,0.29103903843503814,-0.39960507182951666,0.28561949114021556,-0.8521221082036452,0.6408943332123014,-1.0658327287005704,1.7055734494762518,0.400768020028789,-0.8521221082036452,-0.5476794122116478,-0.0707459224440182,-0.18589445133259158,-1.0658327287005704,-0.2844565429409432,-0.5476794122116478,0.09632532403679174,1.5970801961589098,-0.8530226809640331,-0.5149361830926418,-0.18589445133259158,-0.2336169804836467,-1.0658327287005704,-0.3751886184360155,0.26102045537216234,-0.2911118185121752,0.104453452353762,-0.3923478223115982,0.7755209493878066,-1.1820644127240834,-0.5476794122116478,-0.3751886184360155,0.400768020028789,-0.8521221082036452,1.2212001278161515,0.47107825339580933,0.37493325598432653,-0.9105011388005203,-1.1820644127240834,-0.30212613535610494,1.11270687449881,-0.8521221082036452,-0.17292648285263032,-0.8521221082036452,-0.39960507182951666,-0.07740119801525014,-0.5476794122116478,-0.18589445133259158,-0.21863768045159762,-0.038002693325012236,-1.1884207743235553,0.3040070069149994,0.22704149797674714,-0.8521221082036452,0.4933011740184231,-0.21863768045159762,1.5502418595762018,0.400768020028789,0.37706948999490975,-0.7051309229564539,-0.8521221082036452,-0.07740119801525014,0.33584966327361737,-0.18589445133259158,-0.21684984870011656,-0.0707459224440182,-1.0658327287005704,-0.49142030245952883,0.2206851363772755,0.11854824465940546,-0.9683537922271583,0.11854824465940546,-0.1542343773485257,-1.073571159406742,-0.38060816573083794,0.11219188305993381,0.8082641785068125,0.39411274445755723,1.4417486062588603,-0.5476794122116478,-0.5476794122116478,0.7755209493878066,0.11854824465940546,-0.6311678671161555,-0.5476794122116478,0.7625529809078454,-0.0434222406198348,-0.5476794122116478,0.6017944273357647,1.1373059102668635,0.6264098432958591,0.08458566745603172,0.7755209493878066,0.09632532403679174,-0.8521221082036452,-0.5476794122116478,0.09632532403679174,-0.5149361830926418,-0.7051309229564539,-0.18589445133259158,0.400768020028789,-1.1820644127240834,0.7755209493878066,1.2926375001669128,0.11219188305993381,-0.5476794122116478,-0.18589445133259158,-0.38060816573083794,-0.5476794122116478,-0.8521221082036452,0.11854824465940546,-1.1884207743235553,1.259894271047907,0.11854824465940546,0.42715488754832326,-0.38154498003548715,-1.1820644127240834,0.5488423604109204,0.11854824465940546,-0.2911118185121752,-0.9683537922271583,-1.1820644127240834,1.4417486062588603,-1.0658327287005704,1.5970801961589098,0.09632532403679174,-0.0639517331889767,0.9702346637860526,1.259894271047907,-0.38663710334955537,0.4933011740184231,0.8710462342251871,0.6985554404495546,0.16425944225837283,0.29103903843503814,0.432610676387407,-0.21049348710064478,-0.3751886184360155,0.09632532403679174,-0.6702674578346333,-1.073571159406742,-1.1820644127240834,0.1497588873079483,-0.5476794122116478,-1.1820644127240834,-1.1820644127240834,-0.4387046625479945,-0.18589445133259158,0.7625529809078454,0.17480735441152478,-0.18589445133259158,0.400768020028789,-0.038002693325012236,0.7379539451397922,1.4417486062588603,-0.18589445133259158,-0.11738529646013335,0.2528762620212096,1.0669956768998428,-0.5476794122116478,-0.8521221082036452,-0.8521221082036452,-0.8521221082036452,0.09632532403679174,-0.5476794122116478,-0.8521221082036452,0.7755209493878066,-0.9683537922271583,-0.5476794122116478,-0.5476794122116478,-0.0639517331889767,0.9308525392878562,-0.7613900327085732,0.9308525392878562,1.5438854979767298,-0.5476794122116478,-0.41369986413516013,0.168450992812053,-0.7613900327085732,-0.09516237583751937,-1.1820644127240834,0.29103903843503814,-1.0658327287005704,0.46472189179633755,0.11854824465940546,-0.0639517331889767,0.7370533723794043,-0.5476794122116478,-0.8521221082036452,0.11854824465940546,1.2223272667998928,0.400768020028789,1.11270687449881,0.11854824465940546,-0.8521221082036452,-0.09516237583751937,-0.5476794122116478,0.11854824465940546,-1.0658327287005704,0.11219188305993381,-1.1820644127240834,1.104562681147857,0.6657919677940558,-0.5476794122116478,-1.1820644127240834,-0.39960507182951666,-0.8584784698031169,-0.5476794122116478,-1.0658327287005704,-1.0658327287005704,-0.18589445133259158,0.11854824465940546,-0.21049348710064478,-0.5476794122116478,0.29103903843503814,-1.1820644127240834,0.756524043289128,1.0669956768998428,1.2603000336926877,-1.1820644127240834,-0.8521221082036452,-0.5476794122116478,-0.11738529646013335,1.259894271047907,-0.8584784698031169,-0.7613900327085732,-0.51583675585303,-1.0658327287005704,0.29103903843503814,0.400768020028789,-0.18589445133259158,0.846447198457134,-0.728646803589567,-0.3751886184360155,-0.5476794122116478,-0.21049348710064478,0.2845363360052756,1.4417486062588603,0.4933011740184231,0.45208134729713073,0.400768020028789,-0.3605051659529802,-0.3751886184360155,-0.8521221082036452,-0.18589445133259158,-0.21863768045159762,1.4417486062588603,0.09632532403679174,-0.38060816573083794,-0.8521221082036452,-0.9683537922271583,1.5970801961589098,-0.8521221082036452,-0.5476794122116478,0.3040070069149994,0.7755209493878066,-0.3751886184360155,-0.5221931174525016,-0.8521221082036452,0.1612226354874015,-0.8598605389098171,1.5502418595762018,-0.8521221082036452,0.7755209493878066,-1.0721890903000415,0.14113594887537093,-0.5476794122116478,0.5954817344270353,-0.5476794122116478,0.29103903843503814,0.09632532403679174,-0.5476794122116478,1.1754889302171845,1.2223272667998928,-0.7677463943080448,-0.038002693325012236,0.11854824465940546,1.5502418595762018,-0.17292648285263032,0.09632532403679174,0.11854824465940546,1.0461836505509816,-0.5476794122116478,-0.5476794122116478,-0.43918615889430657,-0.40734350253568846,0.47107825339580933,-0.7436288548863038,-1.0658327287005704,0.7755209493878066,0.5242433246428669,0.09632532403679174,0.038228827219635435,-0.5540357738111196,1.7055734494762518,0.7755209493878066,-1.0658327287005704,-0.0707459224440182,0.400768020028789,1.4417486062588603,0.47107825339580933,0.400768020028789,-0.8521221082036452,0.11854824465940546,-0.8521221082036452,1.2848990694607414,0.47107825339580933,0.3303938744345336,-0.019906359986721765,0.47107825339580933,0.09632532403679174,-0.038002693325012236,-0.8521221082036452,-0.5888992389329405,-0.3751886184360155,-0.639312060467108,-0.0707459224440182,0.7755209493878066,-0.18589445133259158,-1.0658327287005704,0.400768020028789,-1.1820644127240834,0.5954817344270353,-0.3751886184360155,0.9308525392878562,-0.8521221082036452,1.5502418595762018,-0.5212925446921138,-0.8521221082036452,1.5970801961589098,-0.15965392464334813,-0.5149361830926418,-0.49142030245952883,0.400768020028789,0.4508822427492553,-0.8521221082036452,0.11854824465940546,-0.8521221082036452,-0.5476794122116478,0.7755209493878066,-0.8521221082036452,1.1373059102668635,1.4011307534842545,-0.8521221082036452,0.22704149797674714,-0.8584784698031169,-0.18589445133259158,0.06958998723194126,-0.18589445133259158,-1.1820644127240834,0.5811044083416733,-0.9683537922271583,-0.8521221082036452,-0.5476794122116478,0.7755209493878066,0.22704149797674714,0.11854824465940546,-0.5149361830926418,1.104562681147857,-0.7613900327085732,0.6657919677940558,-0.5476794122116478,-0.5149361830926418,1.2848990694607414,0.9702346637860526,-0.8776217167320864,0.11854824465940546,0.7755209493878066,0.18070103793239223,-1.0658327287005704,0.11854824465940546,-0.5476794122116478,-1.0658327287005704,-0.0761654697388408,0.5891253728275638,-1.1820644127240834,1.7055734494762518,-1.0658327287005704,-0.5476794122116478,0.11854824465940546,-0.8521221082036452,-0.0434222406198348,0.5900621871322128,-0.8521221082036452,-0.7436288548863038,-0.8521221082036452,0.7755209493878066,1.4011307534842545,0.7755209493878066,-0.04432281338022277,-0.5476794122116478,-0.883978078331558,1.0669956768998428,0.7548145502016734,-0.17292648285263032,-0.5476794122116478,0.7755209493878066,1.7055734494762518,-0.5476794122116478,1.4417486062588603,-0.21863768045159762,0.07082571550835073,1.5502418595762018,0.6264098432958591,-0.5476794122116478,-0.8521221082036452,-0.3751886184360155,-0.8521221082036452,0.11219188305993381,1.1754889302171845,-0.8521221082036452,0.400768020028789,-0.8521221082036452,0.6264098432958591,0.7171419187909316,-1.0658327287005704,-1.0658327287005704,-1.1884207743235553,0.8082641785068125,-0.5476794122116478,0.09632532403679174,-0.7613900327085732,0.400768020028789,0.11854824465940546,-0.3751886184360155,0.7625529809078454,0.6592892653642933,0.26102045537216234,-0.18589445133259158,0.400768020028789,-0.3751886184360155,0.7625529809078454,1.5970801961589098,1.0669956768998428,-0.05759537158950503,0.09632532403679174,-0.17928284445210213,-0.17292648285263032,-0.5476794122116478,0.400768020028789,-0.1813828369184242,-0.5476794122116478,-0.5476794122116478,-0.0707459224440182,-0.7613900327085732,0.09632532403679174,0.9702346637860526,0.7298097517888393,1.130949548667391,1.5970801961589098,0.5900621871322128,-0.5476794122116478,0.63304873867505,-0.4059614334289883,0.09632532403679174,0.7625529809078454,1.5970801961589098,-1.0658327287005704,-0.29081290454041503,1.5502418595762018,0.2519394477165605,-0.5476794122116478,-1.1820644127240834,-0.2911118185121752,0.7755209493878066,0.8082641785068125,0.3040070069149994,-0.8521221082036452,-0.18589445133259158,0.6985554404495546,-0.8521221082036452,-0.8521221082036452,0.03916564152428465,0.11854824465940546,-0.07710228404348998,-0.0434222406198348,-0.11738529646013335,-0.18589445133259158,-0.07740119801525014,0.6348365704265309,0.2976506453155276,-0.6895468977130303,0.11854824465940546,-0.39960507182951666,-0.18589445133259158,0.9308525392878562,0.9648151164912302,1.4417486062588603,-0.5476794122116478,-0.39960507182951666,-0.7613900327085732,0.26644000266698503,-1.1884207743235553,0.400768020028789,0.3172795651242817,-1.0658327287005704,-0.18589445133259158,0.3944116584293172,1.0393457926051983,0.5811044083416733,1.4417486062588603,-0.5476794122116478,1.11270687449881,-0.18589445133259158,-0.07710228404348998,0.8710462342251871,-0.10200023378330315,1.1754889302171845,0.15764815053594214,-0.18589445133259158,-0.8521221082036452,0.5420045024651362,0.7508133243270853,0.5954817344270353,-0.8521221082036452,1.0669956768998428,0.47107825339580933,1.0669956768998428,0.7755209493878066,0.21314566823769696,-0.18589445133259158,-1.1884207743235553,-0.5149361830926418,0.09632532403679174,-0.5476794122116478,0.8532850564029177,-1.0658327287005704,0.11854824465940546,1.5970801961589098,-0.18589445133259158,0.187057399531864,0.42625431478793513,0.400768020028789,0.7755209493878066,-0.07710228404348998,-0.38154498003548715,-0.8521221082036452,-1.0658327287005704,-0.5149361830926418,1.0669956768998428,0.47107825339580933,-0.5476794122116478,-0.7613900327085732,-0.09516237583751937,-0.8521221082036452,1.4417486062588603,1.4417486062588603,-0.8521221082036452,-0.8521221082036452,0.5811044083416733,-0.7613900327085732,-1.1820644127240834,0.11854824465940546,1.4353922446593883,-0.8521221082036452,-0.5476794122116478,0.580698645696892,-0.8521221082036452,-0.5540357738111196,-0.3751886184360155,-0.51583675585303,0.9308525392878562,-1.1820644127240834,-0.3815087384912258,1.7055734494762518,-0.8521221082036452,0.5554539672914098,0.19307892077337324,1.0669956768998428,1.4417486062588603,-1.0658327287005704,1.11270687449881,0.39953229175237964,0.5795715067131512,0.3040070069149994,-0.4323483009485226,-0.4387046625479945,-0.8521221082036452,0.7755209493878066,0.9635957684068622,-0.21863768045159762,-0.9747101538266303,-0.9683537922271583,0.7379539451397922,1.4417486062588603,0.7755209493878066,1.1564647356198043,1.4417486062588603,-0.5230803764435946,-0.5149361830926418,1.4417486062588603,-0.8521221082036452,-0.8448784876130803,-0.39960507182951666,1.4417486062588603,-0.8448784876130803,0.400768020028789,0.5891253728275638,-0.5476794122116478,1.1373059102668635,-0.18589445133259158,-0.3751886184360155,1.104562681147857,0.9635957684068622,-0.8521221082036452,0.11854824465940546,-0.2336169804836467,-0.0639517331889767,1.4417486062588603,0.13542522991332842,-1.1820644127240834,0.09632532403679174,-0.8521221082036452,0.7755209493878066,-0.9683537922271583,-0.17292648285263032,-1.1820644127240834,-0.8130222023271089,0.16938780711670226,-0.18589445133259158,-0.8521221082036452,-0.09516237583751937,0.09632532403679174,-0.9683537922271583,-0.8521221082036452,-0.5149361830926418,-1.1820644127240834,-0.5476794122116478,0.11854824465940546,1.104562681147857,0.7625529809078454,-0.8521221082036452,1.0669956768998428,-0.07710228404348998,-0.0707459224440182,0.9308525392878562,-0.7613900327085732,0.16425944225837283,0.2738798345594553,0.5900621871322128,0.09632532403679174,-0.3751886184360155,0.09632532403679174,-0.8521221082036452,-0.3751886184360155,-0.0707459224440182,0.11854824465940546,0.09632532403679174,0.955857337700691,-0.8521221082036452,0.6357733847311801,-0.7613900327085732,0.168450992812053,0.400768020028789,-1.1820644127240834,0.7755209493878066,0.09632532403679174,-0.51583675585303,-0.21049348710064478,-0.5476794122116478,0.18777532289148602,1.5970801961589098,0.4933011740184231,0.26644000266698503,0.7625529809078454,0.400768020028789,-0.21049348710064478,0.43351124914779504,-0.18589445133259158,0.11854824465940546,-0.8521221082036452,-0.7613900327085732,0.63304873867505,-1.0658327287005704,-1.0721890903000415,0.9648151164912302,-0.5540357738111196,0.7755209493878066,-0.47736917884462754,1.259894271047907,0.09632532403679174,-0.4387046625479945,0.4933011740184231,-0.3679449978454507,-0.18589445133259158,0.5900621871322128,0.3172795651242817,0.3944116584293172,0.4386321976289163,-1.0658327287005704,-0.6311678671161555,-0.21863768045159762,-0.5476794122116478,0.11854824465940546,-0.36203806758150225,-0.21049348710064478,-1.1820644127240834,1.5970801961589098,-0.8521221082036452,-0.5476794122116478,-0.5476794122116478,0.7625529809078454,0.400768020028789,-0.728646803589567,-0.14018325373362445,1.7055734494762518,0.6985554404495546,0.11854824465940546,-0.7051309229564539,-0.8521221082036452,-0.5476794122116478,0.3944116584293172,-0.5476794122116478,-0.9683537922271583,1.4417486062588603,-0.5476794122116478,-0.8521221082036452,0.43351124914779504,0.47107825339580933,-0.7436288548863038,-0.8521221082036452,-1.1820644127240834,-0.8521221082036452,1.7055734494762518,-0.728646803589567,1.5502418595762018,0.11854824465940546,-0.0707459224440182,-0.5476794122116478,-1.0658327287005704,-1.1820644127240834,-0.9683537922271583,-0.8584784698031169,-0.8521221082036452,-0.18589445133259158,0.6017944273357647,-0.18589445133259158,-0.7169068318507482,-1.1820644127240834,0.7755209493878066,0.29103903843503814,-1.0658327287005704,-0.5476794122116478,-1.1820644127240834,-0.5540357738111196,-0.9683537922271583,-0.8521221082036452,0.11854824465940546,-0.21049348710064478,-0.09516237583751937,0.39411274445755723,0.8001199851558596,0.7625529809078454,-1.0658327287005704,-0.0761654697388408,0.4125002602323409,-1.1820644127240834,0.9308525392878562,1.4417486062588603,-0.19363288203876342,0.09632532403679174,1.4417486062588603,-0.39960507182951666,1.4353922446593883,-0.5476794122116478,-0.09516237583751937,-0.5476794122116478,-0.8521221082036452,0.8710462342251871,0.400768020028789,-0.38154498003548715,-0.8521221082036452,-0.18589445133259158,0.5092612733461305,1.0592572461936707,0.29103903843503814,-0.8521221082036452,-0.38154498003548715,-1.0658327287005704,0.8840142027051482,-0.07740119801525014,0.29103903843503814,-0.0707459224440182,-1.0658327287005704,1.1373059102668635,-0.0707459224440182,-0.17596328962360164,-0.14322006050459574,-0.8448784876130803,-0.07740119801525014,-0.5476794122116478,0.11854824465940546,-0.30212613535610494,-1.1820644127240834,0.09632532403679174,0.3944116584293172,0.6005750792513966,-0.8521221082036452,-0.7613900327085732,-1.0658327287005704,0.11854824465940546,1.5970801961589098,0.400768020028789,-0.8584784698031169,0.7379539451397922,1.7055734494762518,-0.4858255329104215,-0.18589445133259158,0.400768020028789,0.013330877479822024,0.11854824465940546,-0.5476794122116478,1.4417486062588603,0.7755209493878066,-0.7051309229564539,-0.0707459224440182,0.47107825339580933,1.5970801961589098,-0.5149361830926418,0.26644000266698503,-0.9683537922271583,0.400768020028789,0.45298223521557757,1.5970801961589098,0.42536705579684214,-0.0761654697388408,-0.8521221082036452,-0.5476794122116478,1.7055734494762518,0.11854824465940546,0.7561966193083738,-0.8521221082036452,-0.8521221082036452,1.130949548667391,-0.3751886184360155,0.09632532403679174,0.3114468388074697,1.5970801961589098,-0.21049348710064478,0.28561949114021556,-0.5476794122116478,-0.8521221082036452,-0.5476794122116478,-0.5476794122116478,0.3040070069149994,-0.5476794122116478,-0.5476794122116478,0.47107825339580933,0.3040070069149994,-0.5476794122116478,0.09632532403679174,-0.8521221082036452,-0.8521221082036452,0.7755209493878066,-0.8521221082036452,-1.1820644127240834,-0.8530226809640331,-0.5888992389329405,-0.18589445133259158,0.7315975835403207,0.400768020028789,-0.8530226809640331,-0.5149361830926418,1.4417486062588603,0.43351124914779504,-0.5476794122116478,-0.9573394753832287,0.26102045537216234,0.9308525392878562,-0.728646803589567,0.9702346637860526,-0.8521221082036452,0.47107825339580933,-0.7613900327085732,1.325516922235347,-0.5476794122116478,1.4417486062588603,0.2738798345594553,-0.10151873743699107,1.5970801961589098,0.8840142027051482,-0.18589445133259158,-1.1884207743235553,-0.5476794122116478,-0.5476794122116478,-0.51583675585303,-0.019906359986721765,-0.11738529646013335,0.6017944273357647,0.43351124914779504,1.7055734494762518,0.5891253728275638,0.11854824465940546,-0.7613900327085732,1.4417486062588603,-0.7613900327085732,0.26102045537216234,-0.8521221082036452,-0.7613900327085732,0.11854824465940546,-0.8521221082036452,0.7625529809078454,-0.33608871255947875,-0.17928284445210213,0.11854824465940546,-0.18589445133259158,-0.06443322953528892,-0.8521221082036452,-1.0658327287005704,1.4417486062588603,-0.8073114833650662,0.09632532403679174,0.27959055352149814,-0.21049348710064478,0.400768020028789,-0.0707459224440182,-0.0707459224440182,0.626692377075578,-0.43918615889430657,0.11854824465940546,0.7755209493878066,0.09632532403679174,1.5502418595762018,-0.5476794122116478,1.7055734494762518,0.7755209493878066,0.7755209493878066,-1.1884207743235553,1.7055734494762518,-0.0707459224440182,0.400768020028789,0.7379539451397922,-0.18589445133259158,0.400768020028789,0.9702346637860526,-0.4977766640590007,0.15020831864347162,-0.5476794122116478,0.400768020028789,-0.17292648285263032,0.400768020028789,0.5900621871322128,-0.1483274470845772,0.35484656937229603,-0.07740119801525014,-1.0658327287005704,0.8082641785068125,-0.5476794122116478,-0.8521221082036452,-0.3751886184360155,0.11854824465940546,1.1373059102668635,0.4792500504035219,-0.17292648285263032,0.3040070069149994,-1.1820644127240834,-1.0658327287005704,0.11854824465940546,-1.1820644127240834,0.11219188305993381,0.5811044083416733,-0.17292648285263032,0.400768020028789,-0.09516237583751937,0.9702346637860526,0.400768020028789,-0.5476794122116478,1.4417486062588603,-1.1820644127240834,0.11854824465940546,-0.05116067132600654,1.5970801961589098,0.400768020028789,0.7691645877883346,-0.7613900327085732,-0.3751886184360155,-0.18589445133259158,-0.5149361830926418,-1.0658327287005704,-0.5476794122116478,-0.5476794122116478,1.2848990694607414,-0.6967905183035953,1.0669956768998428,1.7055734494762518,1.4417486062588603,1.5970801961589098,-0.18589445133259158,-0.5476794122116478,0.3040070069149994,0.013330877479822024,0.400768020028789,0.7625529809078454,-0.07740119801525014,-0.8584784698031169,0.09632532403679174,-0.3751886184360155,0.9308525392878562,-0.5476794122116478,-0.43918615889430657,-0.0761654697388408,0.15790308065890102,0.26644000266698503,0.11854824465940546,0.8192788105088012,-0.019906359986721765,-0.0707459224440182,-0.8521221082036452,0.15611524890742007,-0.51583675585303,-0.8521221082036452,0.9308525392878562,-0.5476794122116478,0.9638783021865811,-0.8598605389098171,-0.8521221082036452,-1.1820644127240834,1.4417486062588603,1.5502418595762018,-0.8521221082036452,0.25829580931603224,-0.9747101538266303,0.2738798345594553,0.29103903843503814,1.5502418595762018,0.5488423604109204,1.0669956768998428,0.11854824465940546,1.0669956768998428,0.11854824465940546,-0.18589445133259158,-0.8521221082036452,-0.3751886184360155,0.7039749877443771,0.13542522991332842,0.400768020028789,0.43351124914779504,1.4417486062588603,0.7379539451397922,-1.0721890903000415,0.7755209493878066,0.32318649538822997,0.400768020028789,-0.39960507182951666,-0.5540357738111196,-0.18589445133259158,-0.39960507182951666,-1.0658327287005704,0.11854824465940546,-0.3751886184360155,-0.7613900327085732,0.47107825339580933,0.7691645877883346,0.7755209493878066,-0.8521221082036452,1.2223272667998928,-0.5476794122116478,-0.5476794122116478,0.26644000266698503,-0.7367909969405199,-0.18589445133259158,-0.0004356890769978521,0.09632532403679174,-0.8521221082036452,-0.8521221082036452,-0.7367909969405199,-0.5476794122116478,-0.6639110962351615,0.09632532403679174,-0.3751886184360155,-0.5476794122116478,-0.5476794122116478,-0.3751886184360155,-0.0707459224440182,-0.5476794122116478,0.7755209493878066,-0.019906359986721765,-0.51583675585303,0.9648151164912302,1.5970801961589098,-0.019906359986721765,1.11270687449881,-0.8448784876130803,0.09632532403679174,-0.8521221082036452,-0.0707459224440182,-0.8584784698031169,0.9308525392878562,0.400768020028789,0.5618103288908817,-0.5476794122116478,-0.5476794122116478,-0.47583627721610555,-0.39960507182951666,-0.16059073894799736,0.7755209493878066,1.4417486062588603,-0.7613900327085732,0.7755209493878066,0.7625529809078454,1.11270687449881,1.7055734494762518,-0.18589445133259158,1.11270687449881,0.29103903843503814,0.8532850564029177,-0.18589445133259158,-0.7436288548863038,-0.5476794122116478,0.5560996099288391,-0.8521221082036452,0.47107825339580933,0.9702346637860526,0.400768020028789,-0.39960507182951666,0.9308525392878562,0.7755209493878066,-0.8521221082036452,-0.5476794122116478,-0.8521221082036452,-0.8521221082036452,0.09632532403679174,-0.8521221082036452,-0.8130222023271089,0.5488423604109204,-0.0707459224440182,-0.43918615889430657,1.104562681147857,-0.18589445133259158,0.400768020028789,1.2848990694607414,-0.17292648285263032,0.7755209493878066,0.11854824465940546,-1.0658327287005704,0.11854824465940546,-0.2845002116316856,-0.9683537922271583,0.11854824465940533,-0.6639110962351615,-0.8521221082036452,0.187057399531864,0.3040070069149994,-0.7613900327085732,0.7039749877443771,1.5502418595762018,-0.9573394753832285,-0.18589445133259158,-1.1820644127240834,1.550241859576202],\"xaxis\":\"x\",\"y\":[-0.21907878279009357,0.3881899596897053,0.7304350663348348,-0.3527523306962416,-0.8076101464579484,-0.149257157041998,1.1580636909251334,-0.2130959981435281,0.258617010958855,0.998822720576109,-0.9600210731760508,0.8591663880233948,-0.8203647406233364,1.1392549969445571,0.3915539780963005,-0.149257157041998,-0.21309599814352811,0.4316307170025369,-0.4389879537859284,0.8591663880233948,0.8591663880233948,0.4520288007912371,0.26734232111756934,1.0814702556582152,-0.07266372177507992,0.08087215959714192,-0.352752330696242,0.11034041452101877,-0.1756380254772719,-0.07266372177507992,-0.21309599814352811,-0.4023595510041906,-0.21309599814352811,-1.0238599142775806,-0.07266372177507992,-1.0238599142775806,-0.07266372177507992,-1.0238599142775806,-1.0402739116191635,0.17164480710047345,1.1332197681944376,-0.07266372177507992,-0.05385502779450366,0.46137560384440385,-1.0238599142775806,0.34393575638448726,0.20827320988221149,1.0626615616776391,-0.149257157041998,-0.21309599814352811,0.20686749842263247,-0.5204137982360931,0.998822720576109,0.2518976455435863,-0.03856976751541692,-0.5130469405307714,-1.0238599142775806,-0.8842035817248665,-0.149257157041998,-0.21309599814352811,0.3975367627428742,-0.13650256287660978,-0.07266372177507992,0.32771513699477056,-0.21309599814352811,0.2354836482020035,0.5126201362143449,0.34393575638448726,-0.4364535052638531,-0.149257157041998,-0.7437713053564184,-0.03856976751541692,0.7858439820472473,-0.5768857816323013,-0.03856976751541692,0.27503100830043775,-0.149257157041998,0.3915539780963005,1.0176314145566852,-0.03856976751541692,-0.4132271533911786,-0.5130469405307714,-0.5130469405307714,-0.03856976751541692,0.6186189397457529,-0.11516320278233515,0.2485336271369928,0.7220051409457171,1.0626615616776391,0.4708374947718132,-0.149257157041998,-0.352752330696242,0.258617010958855,-0.5130469405307714,-0.13650256287660978,0.3975367627428742,-0.5768857816323013,-0.2735708208384647,0.32771513699477056,-0.149257157041998,-0.8842035817248665,0.998822720576109,0.34393575638448726,-0.13044846306142174,0.46137560384440385,0.3915539780963005,0.9461385918817766,-0.12275977587855301,-0.149257157041998,-0.8842035817248665,-0.1039510818979768,1.17334895120422,0.258617010958855,1.0626615616776391,0.41468734085315195,-0.8203647406233364,-0.11769386889603356,-0.07266372177507992,-1.0238599142775806,-0.8842035817248665,-0.03856976751541692,0.4069986536702833,1.1392549969445571,-0.9600210731760508,-0.21309599814352811,0.6988717781888659,-0.9600210731760508,-0.149257157041998,-0.8076101464579484,-0.352752330696242,-0.7862707863636736,0.3915539780963005,-0.149257157041998,-0.21309599814352811,-0.5768857816323013,0.4231172662422647,-0.149257157041998,-0.149257157041998,-0.12612379428514633,-0.21309599814352811,-0.5130469405307714,-1.0238599142775806,0.3915539780963005,-0.7165421141850156,-0.22950999548511075,-0.149257157041998,0.998822720576109,1.1392549969445571,0.18805880444205636,0.998822720576109,0.258617010958855,-0.03856976751541692,0.998822720576109,-0.149257157041998,-0.19428730416295176,-0.21309599814352811,-0.47895298627110866,0.998822720576109,0.998822720576109,-0.7972313778664851,-0.5768857816323013,0.17164480710047345,-0.03856976751541692,0.17164480710047345,-0.03856976751541692,-0.03856976751541692,0.38061778523500933,1.0626615616776391,-0.149257157041998,1.0754161558430273,1.0754161558430273,0.46137560384440385,-0.352752330696242,-0.657675434149814,0.18805880444205636,0.18805880444205636,-1.0238599142775806,0.2354836482020035,0.4741301980097923,-0.1756380254772719,0.49537660453462157,-0.8493336836494696,-1.0214652176385874,-1.0238599142775806,0.2485336271369928,0.3915539780963005,-0.5130469405307714,-0.8203647406233364,-1.0238599142775806,-0.45657495713456303,1.0626615616776391,-0.21309599814352811,-0.21309599814352811,-0.21309599814352811,-0.13650256287660978,-0.2735708208384647,-0.8842035817248665,0.258617010958855,-0.5130469405307714,-0.21309599814352811,-0.03856976751541692,-0.05385502779450366,0.635032937087336,-1.0238599142775806,-0.8015560466427601,0.258617010958855,-0.5130469405307714,0.19045350108104964,0.29383970228101397,0.2518976455435863,-0.5130469405307714,0.18805880444205636,-0.19428730416295176,-0.21309599814352811,0.4954695581040668,0.9545685172708893,-0.9533017077607816,-0.07266372177507992,0.9824087232345264,-0.8203647406233364,-0.47895298627110866,0.48450896660125553,-0.149257157041998,0.2518976455435863,-0.1935113603472176,-0.5768857816323013,0.6538416310679118,-0.149257157041998,0.32771513699477056,-0.21309599814352811,-0.149257157041998,-0.21309599814352811,-0.10240860861694699,-1.0238599142775806,-0.03856976751541692,-0.8203647406233364,-0.01976107353484078,0.2354836482020035,0.11137238005931509,-0.149257157041998,0.2354836482020035,-1.0238599142775806,0.17164480710047345,-0.8026847837052565,1.0967555159373015,-0.7437713053564184,0.38061778523500933,-0.13650256287660978,0.998822720576109,-0.03856976751541692,0.20686749842263247,-0.4377662631539871,-0.149257157041998,0.998822720576109,-0.07266372177507992,-0.13044846306142174,-0.5768857816323013,-0.8203647406233364,-0.03856976751541692,-0.149257157041998,0.46137560384440385,-0.5002923463653832,1.0626615616776391,-0.9006175790664497,-0.7165421141850156,0.5555560424599567,-0.8653948877442907,-0.1468624604030046,-0.07266372177507992,-0.352752330696242,-0.7165421141850156,0.998822720576109,-0.149257157041998,-0.21309599814352811,-0.8842035817248665,0.32771513699477056,-0.8203647406233364,-0.21309599814352811,-0.21309599814352811,-0.8203647406233364,0.2774257049394312,-0.13650256287660978,1.0857949244344907,1.0176314145566852,-0.16567115438358074,-0.21309599814352811,0.37513998075471755,0.17164480710047345,-1.0238599142775806,-0.1756380254772719,-0.8367787379649195,0.3975367627428742,0.3915539780963005,0.6538416310679118,-0.8203647406233364,-0.5130469405307714,-0.5002923463653832,-0.5204137982360931,1.0626615616776391,1.17334895120422,0.0143084820833018,0.998822720576109,0.998822720576109,1.0857949244344907,0.6988717781888659,1.1392549969445571,0.7553437615850739,-0.149257157041998,0.9638185487998565,-0.07266372177507992,0.258617010958855,-0.8842035817248665,-0.149257157041998,-0.21309599814352811,-0.5768857816323013,1.0626615616776391,-0.07266372177507992,-0.5002923463653832,-0.21309599814352811,-0.8203647406233364,0.17164480710047345,0.5627161903178179,0.46137560384440385,1.0626615616776391,-0.7096773510967558,-0.07266372177507992,-0.5130469405307714,0.09021896265030889,1.226227200802939,1.13869757267473,-0.22950999548511075,-1.0238599142775806,-0.03856976751541692,-0.21309599814352811,-0.5130469405307714,-0.8842035817248665,-0.149257157041998,-0.32625494953279716,-0.9600210731760508,0.12071918311248213,-0.08907771911666255,-0.03856976751541692,1.0967555159373015,-0.4132271533911786,-0.149257157041998,-0.352752330696242,-0.149257157041998,1.1392549969445571,1.149633765536021,-0.21309599814352811,1.0626615616776391,0.3881899596897071,0.09758582035563057,-0.01976107353484078,-0.7165421141850156,1.0857949244344907,-0.149257157041998,0.8591663880233948,0.3881899596897071,0.27503100830043775,-0.8842035817248665,0.8932603422830578,-0.4023595510041906,-0.149257157041998,1.149633765536021,0.6699028351627321,1.0626615616776391,0.4163454567234502,-0.5768857816323013,-0.07266372177507992,-0.47895298627110866,1.1046036184150667,0.998822720576109,-0.11516320278233515,0.998822720576109,0.13167977461529337,0.048402436342964296,-0.45657495713456303,1.0176314145566852,-0.34938831228964873,0.8423159654434554,0.18805880444205636,-0.21309599814352811,-0.21309599814352811,-1.0238599142775806,0.998822720576109,0.4954695581040668,-0.21309599814352811,0.3915539780963005,0.15405780375183895,-0.21309599814352811,0.9461385918817766,0.2518976455435863,-0.9764350705176335,-0.5932997789738844,-1.0238599142775806,-0.8203647406233364,-0.149257157041998,-0.21309599814352811,-0.8203647406233364,0.46137560384440385,-0.4023595510041906,1.0626615616776391,-0.8842035817248665,-0.03856976751541692,-1.0238599142775806,0.2354836482020035,1.0176314145566852,-0.21309599814352811,1.0626615616776391,-0.45657495713456303,-0.21309599814352811,-0.149257157041998,0.998822720576109,-0.01976107353484078,-0.4389879537859284,0.998822720576109,-0.19092328575635836,-0.49423824655019527,-0.03856976751541692,0.4681474133632184,0.998822720576109,1.226227200802939,-0.11516320278233515,-0.03856976751541692,0.18805880444205636,-0.07266372177507992,0.17164480710047345,-0.8203647406233364,0.34393575638448726,0.49537660453462157,-0.4389879537859284,-0.27615889542932404,0.8591663880233948,0.47852618195468183,0.7784771243419256,0.25788043019015994,0.6988717781888659,0.5022413676228814,0.3975367627428742,-0.5130469405307714,-0.8203647406233364,-0.1601933499032889,0.048402436342964296,-0.03856976751541692,0.26734232111756934,-0.21309599814352811,-0.03856976751541692,-0.03856976751541692,0.4835920889372015,1.0626615616776391,0.3915539780963005,0.7329657324485285,1.0626615616776391,-0.8842035817248665,0.09758582035563057,-0.2735708208384647,0.18805880444205636,1.0626615616776391,-0.7437713053564184,0.08087215959714192,0.32771513699477056,-0.21309599814352811,-0.149257157041998,-0.149257157041998,-0.149257157041998,-0.8203647406233364,-0.21309599814352811,-0.149257157041998,-1.0238599142775806,-0.11516320278233515,-0.21309599814352811,-0.21309599814352811,0.34393575638448726,-1.0402739116191635,-0.13650256287660978,-1.0402739116191635,0.29383970228101397,-0.21309599814352811,1.2791298490431777,0.7517744264291041,-0.13650256287660978,1.0754161558430273,-0.03856976751541692,0.6988717781888659,-0.07266372177507992,-0.9412123791954744,0.998822720576109,0.34393575638448726,0.4384025265213514,-0.21309599814352811,-0.149257157041998,0.998822720576109,0.31130113965318773,-0.8842035817248665,-0.4132271533911786,0.998822720576109,-0.149257157041998,1.0754161558430273,-0.21309599814352811,0.998822720576109,-0.07266372177507992,1.0176314145566852,-0.03856976751541692,-0.42257395644434564,0.5592154456361517,-0.21309599814352811,-0.03856976751541692,1.1392549969445571,-0.13044846306142174,-0.21309599814352811,-0.07266372177507992,-0.07266372177507992,1.0626615616776391,0.998822720576109,0.3975367627428742,-0.21309599814352811,0.6988717781888659,-0.03856976751541692,0.5719700398015397,0.32771513699477056,-0.30857499261471705,-0.03856976751541692,-0.149257157041998,-0.21309599814352811,-0.7437713053564184,-0.4389879537859284,-0.13044846306142174,-0.13650256287660978,1.17334895120422,-0.07266372177507992,0.6988717781888659,-0.8842035817248665,1.0626615616776391,-0.18659861698008307,0.5379690391113221,-0.5130469405307714,-0.21309599814352811,0.3975367627428742,-0.8501096274652039,0.18805880444205636,0.8591663880233948,0.6358088809030698,-0.8842035817248665,1.1569349538626374,-0.5130469405307714,-0.149257157041998,1.0626615616776391,0.3881899596897071,0.18805880444205636,-0.8203647406233364,-0.45657495713456303,-0.149257157041998,-0.11516320278233515,0.17164480710047345,-0.149257157041998,-0.21309599814352811,-0.7165421141850156,-1.0238599142775806,-0.5130469405307714,1.192157645184796,-0.149257157041998,0.19731261837940023,-0.028190998923953704,0.27503100830043775,-0.149257157041998,-1.0238599142775806,-0.05385502779450366,-0.8493336836494696,-0.21309599814352811,0.635032937087336,-0.21309599814352811,0.6988717781888659,-0.8203647406233364,-0.21309599814352811,0.41468734085315195,0.31130113965318773,-0.11769386889603356,0.09758582035563057,0.998822720576109,0.27503100830043775,-0.352752330696242,-0.8203647406233364,0.998822720576109,-0.3623945185190102,-0.21309599814352811,-0.21309599814352811,-0.12612379428514633,1.260321155062602,-0.9600210731760508,-0.0622849531836164,-0.07266372177507992,-1.0238599142775806,-0.19697738557154643,-0.8203647406233364,0.11980230544842786,-0.19428730416295176,0.258617010958855,-1.0238599142775806,-0.07266372177507992,-0.5768857816323013,-0.8842035817248665,0.18805880444205636,-0.9600210731760508,-0.8842035817248665,-0.149257157041998,0.998822720576109,-0.149257157041998,0.3565498063200478,-0.9600210731760508,-0.02326181821650727,-0.7862707863636736,-0.9600210731760508,-0.8203647406233364,0.09758582035563057,-0.149257157041998,-0.4364535052638531,-0.5130469405307714,0.4861227550508999,-0.5768857816323013,-1.0238599142775806,1.0626615616776391,-0.07266372177507992,-0.8842035817248665,-0.03856976751541692,0.635032937087336,-0.5130469405307714,-1.0402739116191635,-0.149257157041998,0.27503100830043775,0.48018429782498023,-0.149257157041998,0.17164480710047345,0.18815175801150175,0.46137560384440385,-0.47895298627110866,-0.8842035817248665,-0.7370519399411496,-0.149257157041998,0.998822720576109,-0.149257157041998,-0.21309599814352811,-1.0238599142775806,-0.149257157041998,0.2518976455435863,0.3224558520603851,-0.149257157041998,1.0857949244344907,-0.13044846306142174,1.0626615616776391,0.8965313715738279,1.0626615616776391,-0.03856976751541692,-0.10507981896047339,-0.11516320278233515,-0.149257157041998,-0.21309599814352811,-1.0238599142775806,1.0857949244344907,0.998822720576109,0.46137560384440385,-0.42257395644434564,-0.13650256287660978,0.5592154456361517,-0.21309599814352811,0.46137560384440385,0.3565498063200478,0.49537660453462157,-0.10240860861694699,0.998822720576109,-1.0238599142775806,-0.7888014524773722,-0.07266372177507992,0.998822720576109,-0.21309599814352811,-0.07266372177507992,-0.5204137982360931,0.6538416310679118,-0.03856976751541692,0.258617010958855,-0.07266372177507992,-0.21309599814352811,0.998822720576109,-0.149257157041998,0.15405780375183895,0.6915049204835441,-0.149257157041998,-0.0622849531836164,-0.149257157041998,-1.0238599142775806,0.3224558520603851,-1.0238599142775806,0.8660311511116547,-0.21309599814352811,-0.0835999146363708,0.32771513699477056,0.5126201362143449,-0.352752330696242,-0.21309599814352811,-1.0238599142775806,0.258617010958855,-0.21309599814352811,0.18805880444205636,0.3881899596897071,-0.7735161921982855,0.27503100830043775,-0.9764350705176335,-0.21309599814352811,-0.149257157041998,-0.5130469405307714,-0.149257157041998,1.0176314145566852,0.41468734085315195,-0.149257157041998,-0.8842035817248665,-0.149257157041998,-0.9764350705176335,-0.9636804763522453,-0.07266372177507992,-0.07266372177507992,-0.01976107353484078,-0.34938831228964873,-0.21309599814352811,-0.8203647406233364,-0.13650256287660978,-0.8842035817248665,0.998822720576109,-0.5130469405307714,0.3915539780963005,-0.989765960017918,0.09021896265030889,1.0626615616776391,-0.8842035817248665,-0.5130469405307714,0.3915539780963005,0.17164480710047345,0.32771513699477056,0.32512706240391126,-0.8203647406233364,-0.33394363671566585,-0.352752330696242,-0.21309599814352811,-0.8842035817248665,-0.35684815911079354,-0.21309599814352811,-0.21309599814352811,-0.5768857816323013,-0.13650256287660978,-0.8203647406233364,0.49537660453462157,-0.28291762389163155,0.27070633952416245,0.17164480710047345,0.6915049204835441,-0.21309599814352811,-0.11525615635178044,1.1580636909251334,-0.8203647406233364,0.3915539780963005,0.17164480710047345,-0.07266372177507992,-0.481483652384807,0.27503100830043775,0.04320887018150959,-0.21309599814352811,-0.03856976751541692,1.226227200802939,-1.0238599142775806,-0.34938831228964873,-0.7165421141850156,-0.149257157041998,1.0626615616776391,0.7784771243419256,-0.149257157041998,-0.149257157041998,0.15746559486406,0.998822720576109,-0.5580770876517251,0.15405780375183895,-0.7437713053564184,1.0626615616776391,1.149633765536021,-0.08710065931803733,-0.6977334202044394,0.5556489960294021,0.998822720576109,1.1392549969445571,1.0626615616776391,-1.0402739116191635,0.5518485879308298,0.18805880444205636,-0.21309599814352811,1.1392549969445571,-0.13650256287660978,0.033746979254100674,-0.01976107353484078,-0.8842035817248665,-0.1756380254772719,-0.07266372177507992,1.0626615616776391,-0.8653948877442907,-0.9533017077607816,-0.10507981896047339,0.18805880444205636,-0.21309599814352811,-0.4132271533911786,1.0626615616776391,-0.5580770876517251,0.47852618195468183,0.48450896660125553,0.41468734085315195,1.0165026774941888,1.0626615616776391,-0.149257157041998,-0.12275977587855301,0.6186189397457529,0.635032937087336,-0.149257157041998,0.32771513699477056,-0.9600210731760508,0.32771513699477056,-1.0238599142775806,0.9553980516090299,1.0626615616776391,-0.01976107353484078,0.46137560384440385,-0.8203647406233364,-0.21309599814352811,0.40430857226168865,-0.07266372177507992,0.998822720576109,0.17164480710047345,1.0626615616776391,-0.8076101464579484,0.5210500616034577,-0.8842035817248665,-1.0238599142775806,-0.5580770876517251,-0.49423824655019527,-0.149257157041998,-0.07266372177507992,0.46137560384440385,0.32771513699477056,-0.9600210731760508,-0.21309599814352811,-0.13650256287660978,1.0754161558430273,-0.149257157041998,0.18805880444205636,0.18805880444205636,-0.149257157041998,-0.149257157041998,-0.10507981896047339,-0.13650256287660978,-0.03856976751541692,0.998822720576109,0.20686749842263247,-0.149257157041998,-0.21309599814352811,-0.2354927801316845,-0.149257157041998,-0.19428730416295176,-0.5130469405307714,1.17334895120422,-1.0402739116191635,-0.03856976751541692,0.25539839022525274,0.258617010958855,-0.149257157041998,-0.9284577850300866,-0.5063275751155029,0.32771513699477056,0.18805880444205636,-0.07266372177507992,-0.4132271533911786,0.7858439820472473,-0.8730488693176692,-0.7165421141850156,0.4647833949566253,0.4835920889372015,-0.149257157041998,-1.0238599142775806,-0.36580230963123156,0.3881899596897071,-0.09635450880175898,-0.11516320278233515,-0.2735708208384647,0.18805880444205636,-1.0238599142775806,-0.24726681762688557,0.18805880444205636,0.4520288007912371,0.46137560384440385,0.18805880444205636,-0.149257157041998,0.572062993370985,1.1392549969445571,0.18805880444205636,0.572062993370985,-0.8842035817248665,0.6538416310679118,-0.21309599814352811,0.2518976455435863,1.0626615616776391,-0.5130469405307714,-0.42257395644434564,-0.36580230963123156,-0.149257157041998,0.998822720576109,-0.7096773510967558,0.34393575638448726,0.18805880444205636,-0.8026847837052565,-0.03856976751541692,-0.8203647406233364,-0.149257157041998,-1.0238599142775806,-0.11516320278233515,-0.352752330696242,-0.03856976751541692,-0.13157720012391802,0.7894377158447368,1.0626615616776391,-0.149257157041998,1.0754161558430273,-0.8203647406233364,-0.11516320278233515,-0.149257157041998,0.46137560384440385,-0.03856976751541692,-0.21309599814352811,0.998822720576109,-0.42257395644434564,0.3915539780963005,-0.149257157041998,0.32771513699477056,-0.5580770876517251,-0.5768857816323013,-1.0402739116191635,-0.13650256287660978,0.25788043019015994,0.9824087232345264,0.6915049204835441,-0.8203647406233364,-0.5130469405307714,-0.8203647406233364,-0.149257157041998,-0.5130469405307714,-0.5768857816323013,0.998822720576109,-0.8203647406233364,-0.24473615151318723,-0.149257157041998,-0.04943736990240512,-0.13650256287660978,0.7517744264291041,-0.8842035817248665,-0.03856976751541692,-1.0238599142775806,-0.8203647406233364,1.17334895120422,0.3975367627428742,-0.21309599814352811,-0.6824481599253527,0.17164480710047345,0.8591663880233948,0.033746979254100674,0.3915539780963005,-0.8842035817248665,0.3975367627428742,-0.20973197973693444,1.0626615616776391,0.998822720576109,-0.149257157041998,-0.13650256287660978,-0.11525615635178044,-0.07266372177507992,-0.05385502779450366,0.5518485879308298,-0.19428730416295176,-1.0238599142775806,-0.2889134895947121,-0.4389879537859284,-0.8203647406233364,0.4835920889372015,0.8591663880233948,0.20827320988221149,1.0626615616776391,0.6915049204835441,-0.1756380254772719,-0.8653948877442907,0.8035239389653269,-0.07266372177507992,0.4954695581040668,0.3881899596897071,-0.21309599814352811,0.998822720576109,0.38896590350544086,0.3975367627428742,-0.03856976751541692,0.17164480710047345,-0.149257157041998,-0.21309599814352811,-0.21309599814352811,0.3915539780963005,-0.8842035817248665,0.5379690391113221,0.32171927129169003,0.258617010958855,0.7784771243419256,0.998822720576109,-0.4023595510041906,-0.149257157041998,-0.21309599814352811,-0.8653948877442907,-0.21309599814352811,-0.11516320278233515,0.18805880444205636,-0.21309599814352811,-0.149257157041998,-0.20973197973693444,-0.9600210731760508,-0.0622849531836164,-0.149257157041998,-0.03856976751541692,-0.149257157041998,0.258617010958855,0.5379690391113221,0.27503100830043775,0.998822720576109,-0.5768857816323013,-0.21309599814352811,-0.07266372177507992,-0.03856976751541692,-0.11516320278233515,-0.13044846306142174,-0.149257157041998,1.0626615616776391,0.9461385918817766,1.0626615616776391,-0.32707887362740606,-0.03856976751541692,-1.0238599142775806,0.6988717781888659,-0.07266372177507992,-0.21309599814352811,-0.03856976751541692,-0.19428730416295176,-0.11516320278233515,-0.149257157041998,0.998822720576109,0.3975367627428742,1.0754161558430273,0.8423159654434554,-0.35873511534281566,0.3915539780963005,-0.07266372177507992,-0.5204137982360931,-0.6295699103266343,-0.03856976751541692,-1.0402739116191635,0.18805880444205636,1.1837277197956835,-0.8203647406233364,0.18805880444205636,1.1392549969445571,0.20686749842263247,-0.21309599814352811,1.0754161558430273,-0.21309599814352811,-0.149257157041998,0.47852618195468183,-0.8842035817248665,-0.49423824655019527,-0.149257157041998,1.0626615616776391,-0.7972313778664851,0.44878129511281467,0.6988717781888659,-0.149257157041998,-0.49423824655019527,-0.07266372177507992,-0.9368877104191993,1.149633765536021,0.6988717781888659,-0.5768857816323013,-0.07266372177507992,0.2518976455435863,-0.5768857816323013,-0.4133201425070017,0.2611514594809302,0.572062993370985,1.149633765536021,-0.21309599814352811,0.998822720576109,1.0967555159373015,-0.03856976751541692,-0.8203647406233364,-0.8653948877442907,0.028487694319715137,-0.149257157041998,-0.13650256287660978,-0.07266372177507992,0.998822720576109,0.17164480710047345,-0.8842035817248665,-0.13044846306142174,-0.2735708208384647,0.258617010958855,-0.29300931800926333,1.0626615616776391,-0.8842035817248665,1.1623883597014086,0.998822720576109,-0.21309599814352811,0.18805880444205636,-1.0238599142775806,-0.4023595510041906,-0.5768857816323013,-0.9600210731760508,0.17164480710047345,0.46137560384440385,0.033746979254100674,-0.11516320278233515,-0.8842035817248665,-0.7141474175460223,0.17164480710047345,-0.21907878279010154,-0.5204137982360931,-0.149257157041998,-0.21309599814352811,0.258617010958855,0.998822720576109,0.4103626720768767,-0.149257157041998,-0.149257157041998,0.27070633952416245,-0.5130469405307714,-0.8203647406233364,0.2321196297954101,0.17164480710047345,0.3975367627428742,0.7553437615850739,-0.21309599814352811,-0.149257157041998,-0.21309599814352811,-0.21309599814352811,-0.7165421141850156,-0.21309599814352811,-0.21309599814352811,-0.9600210731760508,-0.7165421141850156,-0.21309599814352811,-0.8203647406233364,-0.149257157041998,-0.149257157041998,-1.0238599142775806,-0.149257157041998,-0.03856976751541692,0.5627161903178179,-0.4364535052638531,1.0626615616776391,-0.25476212685788835,-0.8842035817248665,0.5627161903178179,0.46137560384440385,0.18805880444205636,-0.20973197973693444,-0.21309599814352811,0.0143084820833018,0.09021896265030889,-1.0402739116191635,0.5379690391113221,0.49537660453462157,-0.149257157041998,-0.9600210731760508,-0.13650256287660978,0.22215275870171902,-0.21309599814352811,0.18805880444205636,0.9824087232345264,1.0942248498236034,0.17164480710047345,-0.9368877104191993,1.0626615616776391,-0.01976107353484078,-0.21309599814352811,-0.21309599814352811,1.17334895120422,-0.7862707863636736,-0.7437713053564184,0.9461385918817766,-0.20973197973693444,0.258617010958855,0.6538416310679118,0.998822720576109,-0.13650256287660978,0.18805880444205636,-0.13650256287660978,0.09021896265030889,-0.149257157041998,-0.13650256287660978,0.998822720576109,-0.149257157041998,0.3915539780963005,-0.4953669836126915,-0.33394363671566585,0.998822720576109,1.0626615616776391,-0.26578012683786056,-0.149257157041998,-0.07266372177507992,0.18805880444205636,-0.17822610006813103,-0.8203647406233364,0.935759823290313,0.3975367627428742,-0.8842035817248665,-0.5768857816323013,-0.5768857816323013,-0.09644746237120434,-0.12612379428514633,0.998822720576109,-1.0238599142775806,-0.8203647406233364,0.27503100830043775,-0.21309599814352811,0.258617010958855,-1.0238599142775806,-1.0238599142775806,-0.01976107353484078,0.258617010958855,-0.5768857816323013,-0.8842035817248665,-0.2735708208384647,1.0626615616776391,-0.8842035817248665,0.49537660453462157,-0.4601442922905324,0.0678409335137634,-0.21309599814352811,-0.8842035817248665,-0.352752330696242,-0.8842035817248665,0.6915049204835441,0.31237246823852294,-0.925927118916388,1.149633765536021,-0.07266372177507992,-0.34938831228964873,-0.21309599814352811,-0.149257157041998,-0.5130469405307714,0.998822720576109,0.2518976455435863,0.6691268913469984,-0.352752330696242,-0.7165421141850156,-0.03856976751541692,-0.07266372177507992,0.998822720576109,-0.03856976751541692,1.0176314145566852,-0.10507981896047339,-0.352752330696242,-0.8842035817248665,1.0754161558430273,0.49537660453462157,-0.8842035817248665,-0.21309599814352811,0.18805880444205636,-0.03856976751541692,0.998822720576109,0.275123961869883,0.17164480710047345,-0.8842035817248665,-1.0050512202970046,-0.13650256287660978,-0.5130469405307714,1.0626615616776391,0.46137560384440385,-0.07266372177507992,-0.21309599814352811,-0.21309599814352811,0.3565498063200478,-0.16567115438358074,0.32771513699477056,0.258617010958855,0.18805880444205636,0.17164480710047345,1.0626615616776391,-0.21309599814352811,-0.7165421141850156,1.1623883597014086,-0.8842035817248665,0.3915539780963005,1.149633765536021,-0.13044846306142174,-0.8203647406233364,-0.5130469405307714,-1.0402739116191635,-0.21309599814352811,-0.12612379428514633,-0.5204137982360931,0.27668912417073616,0.033746979254100674,0.998822720576109,-0.8578995785132879,-0.7862707863636736,-0.5768857816323013,-0.149257157041998,0.2485336271369928,1.17334895120422,-0.149257157041998,-1.0402739116191635,-0.21309599814352811,0.5141852985151977,-0.028190998923953704,-0.149257157041998,-0.03856976751541692,0.18805880444205636,0.27503100830043775,-0.149257157041998,0.024400176200933564,-0.09635450880175898,0.9824087232345264,0.6988717781888659,0.27503100830043775,0.4681474133632184,0.32771513699477056,0.998822720576109,0.32771513699477056,0.998822720576109,1.0626615616776391,-0.149257157041998,-0.5130469405307714,0.7220051409457171,-0.8026847837052565,-0.8842035817248665,-0.20973197973693444,0.18805880444205636,-0.2735708208384647,-0.05385502779450366,-1.0238599142775806,0.005054668145957792,-0.8842035817248665,1.1392549969445571,-0.19428730416295176,1.0626615616776391,1.1392549969445571,-0.07266372177507992,0.998822720576109,-0.5130469405307714,-0.13650256287660978,-0.9600210731760508,-1.0050512202970046,-1.0238599142775806,-0.149257157041998,0.31130113965318773,-0.21309599814352811,-0.21309599814352811,0.033746979254100674,0.5286222360581551,1.0626615616776391,-0.6527032730834855,-0.8203647406233364,-0.149257157041998,-0.149257157041998,0.5286222360581551,-0.21309599814352811,-0.17900204388386506,-0.8203647406233364,-0.5130469405307714,-0.21309599814352811,-0.21309599814352811,-0.5130469405307714,-0.5768857816323013,-0.21309599814352811,-1.0238599142775806,-0.7862707863636736,1.17334895120422,0.5518485879308298,0.17164480710047345,-0.7862707863636736,-0.4132271533911786,0.572062993370985,-0.8203647406233364,-0.149257157041998,-0.5768857816323013,-0.13044846306142174,-1.0402739116191635,-0.8842035817248665,-0.9472664790106625,-0.21309599814352811,-0.21309599814352811,0.47905556076248407,1.1392549969445571,0.15048846859586956,-1.0238599142775806,0.18805880444205636,-0.13650256287660978,-1.0238599142775806,0.3915539780963005,-0.4132271533911786,0.258617010958855,1.0626615616776391,-0.4132271533911786,0.6988717781888659,0.40430857226168865,1.0626615616776391,-0.0622849531836164,-0.21309599814352811,-0.9006175790664497,-0.149257157041998,-0.9600210731760508,0.49537660453462157,-0.8842035817248665,1.1392549969445571,-1.0402739116191635,-1.0238599142775806,-0.149257157041998,-0.21309599814352811,-0.149257157041998,-0.149257157041998,-0.8203647406233364,-0.149257157041998,-0.13157720012391802,0.4681474133632184,-0.5768857816323013,-0.12612379428514633,-0.42257395644434564,1.0626615616776391,-0.8842035817248665,0.3565498063200478,-0.352752330696242,-1.0238599142775806,0.998822720576109,-0.07266372177507992,0.998822720576109,-0.17037799759036606,-0.1151632027823351,0.998822720576109,-0.17900204388386495,-0.14925715704199805,-0.8076101464579484,-0.7165421141850156,-0.13650256287660978,0.7220051409457171,0.2750310083004378,0.014308482083301747,1.0626615616776391,-0.03856976751541697,0.275031008300438],\"yaxis\":\"y\",\"type\":\"scattergl\"}],                        {\"template\":{\"data\":{\"bar\":[{\"error_x\":{\"color\":\"#2a3f5f\"},\"error_y\":{\"color\":\"#2a3f5f\"},\"marker\":{\"line\":{\"color\":\"#E5ECF6\",\"width\":0.5},\"pattern\":{\"fillmode\":\"overlay\",\"size\":10,\"solidity\":0.2}},\"type\":\"bar\"}],\"barpolar\":[{\"marker\":{\"line\":{\"color\":\"#E5ECF6\",\"width\":0.5},\"pattern\":{\"fillmode\":\"overlay\",\"size\":10,\"solidity\":0.2}},\"type\":\"barpolar\"}],\"carpet\":[{\"aaxis\":{\"endlinecolor\":\"#2a3f5f\",\"gridcolor\":\"white\",\"linecolor\":\"white\",\"minorgridcolor\":\"white\",\"startlinecolor\":\"#2a3f5f\"},\"baxis\":{\"endlinecolor\":\"#2a3f5f\",\"gridcolor\":\"white\",\"linecolor\":\"white\",\"minorgridcolor\":\"white\",\"startlinecolor\":\"#2a3f5f\"},\"type\":\"carpet\"}],\"choropleth\":[{\"colorbar\":{\"outlinewidth\":0,\"ticks\":\"\"},\"type\":\"choropleth\"}],\"contour\":[{\"colorbar\":{\"outlinewidth\":0,\"ticks\":\"\"},\"colorscale\":[[0.0,\"#0d0887\"],[0.1111111111111111,\"#46039f\"],[0.2222222222222222,\"#7201a8\"],[0.3333333333333333,\"#9c179e\"],[0.4444444444444444,\"#bd3786\"],[0.5555555555555556,\"#d8576b\"],[0.6666666666666666,\"#ed7953\"],[0.7777777777777778,\"#fb9f3a\"],[0.8888888888888888,\"#fdca26\"],[1.0,\"#f0f921\"]],\"type\":\"contour\"}],\"contourcarpet\":[{\"colorbar\":{\"outlinewidth\":0,\"ticks\":\"\"},\"type\":\"contourcarpet\"}],\"heatmap\":[{\"colorbar\":{\"outlinewidth\":0,\"ticks\":\"\"},\"colorscale\":[[0.0,\"#0d0887\"],[0.1111111111111111,\"#46039f\"],[0.2222222222222222,\"#7201a8\"],[0.3333333333333333,\"#9c179e\"],[0.4444444444444444,\"#bd3786\"],[0.5555555555555556,\"#d8576b\"],[0.6666666666666666,\"#ed7953\"],[0.7777777777777778,\"#fb9f3a\"],[0.8888888888888888,\"#fdca26\"],[1.0,\"#f0f921\"]],\"type\":\"heatmap\"}],\"heatmapgl\":[{\"colorbar\":{\"outlinewidth\":0,\"ticks\":\"\"},\"colorscale\":[[0.0,\"#0d0887\"],[0.1111111111111111,\"#46039f\"],[0.2222222222222222,\"#7201a8\"],[0.3333333333333333,\"#9c179e\"],[0.4444444444444444,\"#bd3786\"],[0.5555555555555556,\"#d8576b\"],[0.6666666666666666,\"#ed7953\"],[0.7777777777777778,\"#fb9f3a\"],[0.8888888888888888,\"#fdca26\"],[1.0,\"#f0f921\"]],\"type\":\"heatmapgl\"}],\"histogram\":[{\"marker\":{\"pattern\":{\"fillmode\":\"overlay\",\"size\":10,\"solidity\":0.2}},\"type\":\"histogram\"}],\"histogram2d\":[{\"colorbar\":{\"outlinewidth\":0,\"ticks\":\"\"},\"colorscale\":[[0.0,\"#0d0887\"],[0.1111111111111111,\"#46039f\"],[0.2222222222222222,\"#7201a8\"],[0.3333333333333333,\"#9c179e\"],[0.4444444444444444,\"#bd3786\"],[0.5555555555555556,\"#d8576b\"],[0.6666666666666666,\"#ed7953\"],[0.7777777777777778,\"#fb9f3a\"],[0.8888888888888888,\"#fdca26\"],[1.0,\"#f0f921\"]],\"type\":\"histogram2d\"}],\"histogram2dcontour\":[{\"colorbar\":{\"outlinewidth\":0,\"ticks\":\"\"},\"colorscale\":[[0.0,\"#0d0887\"],[0.1111111111111111,\"#46039f\"],[0.2222222222222222,\"#7201a8\"],[0.3333333333333333,\"#9c179e\"],[0.4444444444444444,\"#bd3786\"],[0.5555555555555556,\"#d8576b\"],[0.6666666666666666,\"#ed7953\"],[0.7777777777777778,\"#fb9f3a\"],[0.8888888888888888,\"#fdca26\"],[1.0,\"#f0f921\"]],\"type\":\"histogram2dcontour\"}],\"mesh3d\":[{\"colorbar\":{\"outlinewidth\":0,\"ticks\":\"\"},\"type\":\"mesh3d\"}],\"parcoords\":[{\"line\":{\"colorbar\":{\"outlinewidth\":0,\"ticks\":\"\"}},\"type\":\"parcoords\"}],\"pie\":[{\"automargin\":true,\"type\":\"pie\"}],\"scatter\":[{\"marker\":{\"colorbar\":{\"outlinewidth\":0,\"ticks\":\"\"}},\"type\":\"scatter\"}],\"scatter3d\":[{\"line\":{\"colorbar\":{\"outlinewidth\":0,\"ticks\":\"\"}},\"marker\":{\"colorbar\":{\"outlinewidth\":0,\"ticks\":\"\"}},\"type\":\"scatter3d\"}],\"scattercarpet\":[{\"marker\":{\"colorbar\":{\"outlinewidth\":0,\"ticks\":\"\"}},\"type\":\"scattercarpet\"}],\"scattergeo\":[{\"marker\":{\"colorbar\":{\"outlinewidth\":0,\"ticks\":\"\"}},\"type\":\"scattergeo\"}],\"scattergl\":[{\"marker\":{\"colorbar\":{\"outlinewidth\":0,\"ticks\":\"\"}},\"type\":\"scattergl\"}],\"scattermapbox\":[{\"marker\":{\"colorbar\":{\"outlinewidth\":0,\"ticks\":\"\"}},\"type\":\"scattermapbox\"}],\"scatterpolar\":[{\"marker\":{\"colorbar\":{\"outlinewidth\":0,\"ticks\":\"\"}},\"type\":\"scatterpolar\"}],\"scatterpolargl\":[{\"marker\":{\"colorbar\":{\"outlinewidth\":0,\"ticks\":\"\"}},\"type\":\"scatterpolargl\"}],\"scatterternary\":[{\"marker\":{\"colorbar\":{\"outlinewidth\":0,\"ticks\":\"\"}},\"type\":\"scatterternary\"}],\"surface\":[{\"colorbar\":{\"outlinewidth\":0,\"ticks\":\"\"},\"colorscale\":[[0.0,\"#0d0887\"],[0.1111111111111111,\"#46039f\"],[0.2222222222222222,\"#7201a8\"],[0.3333333333333333,\"#9c179e\"],[0.4444444444444444,\"#bd3786\"],[0.5555555555555556,\"#d8576b\"],[0.6666666666666666,\"#ed7953\"],[0.7777777777777778,\"#fb9f3a\"],[0.8888888888888888,\"#fdca26\"],[1.0,\"#f0f921\"]],\"type\":\"surface\"}],\"table\":[{\"cells\":{\"fill\":{\"color\":\"#EBF0F8\"},\"line\":{\"color\":\"white\"}},\"header\":{\"fill\":{\"color\":\"#C8D4E3\"},\"line\":{\"color\":\"white\"}},\"type\":\"table\"}]},\"layout\":{\"annotationdefaults\":{\"arrowcolor\":\"#2a3f5f\",\"arrowhead\":0,\"arrowwidth\":1},\"autotypenumbers\":\"strict\",\"coloraxis\":{\"colorbar\":{\"outlinewidth\":0,\"ticks\":\"\"}},\"colorscale\":{\"diverging\":[[0,\"#8e0152\"],[0.1,\"#c51b7d\"],[0.2,\"#de77ae\"],[0.3,\"#f1b6da\"],[0.4,\"#fde0ef\"],[0.5,\"#f7f7f7\"],[0.6,\"#e6f5d0\"],[0.7,\"#b8e186\"],[0.8,\"#7fbc41\"],[0.9,\"#4d9221\"],[1,\"#276419\"]],\"sequential\":[[0.0,\"#0d0887\"],[0.1111111111111111,\"#46039f\"],[0.2222222222222222,\"#7201a8\"],[0.3333333333333333,\"#9c179e\"],[0.4444444444444444,\"#bd3786\"],[0.5555555555555556,\"#d8576b\"],[0.6666666666666666,\"#ed7953\"],[0.7777777777777778,\"#fb9f3a\"],[0.8888888888888888,\"#fdca26\"],[1.0,\"#f0f921\"]],\"sequentialminus\":[[0.0,\"#0d0887\"],[0.1111111111111111,\"#46039f\"],[0.2222222222222222,\"#7201a8\"],[0.3333333333333333,\"#9c179e\"],[0.4444444444444444,\"#bd3786\"],[0.5555555555555556,\"#d8576b\"],[0.6666666666666666,\"#ed7953\"],[0.7777777777777778,\"#fb9f3a\"],[0.8888888888888888,\"#fdca26\"],[1.0,\"#f0f921\"]]},\"colorway\":[\"#636efa\",\"#EF553B\",\"#00cc96\",\"#ab63fa\",\"#FFA15A\",\"#19d3f3\",\"#FF6692\",\"#B6E880\",\"#FF97FF\",\"#FECB52\"],\"font\":{\"color\":\"#2a3f5f\"},\"geo\":{\"bgcolor\":\"white\",\"lakecolor\":\"white\",\"landcolor\":\"#E5ECF6\",\"showlakes\":true,\"showland\":true,\"subunitcolor\":\"white\"},\"hoverlabel\":{\"align\":\"left\"},\"hovermode\":\"closest\",\"mapbox\":{\"style\":\"light\"},\"paper_bgcolor\":\"white\",\"plot_bgcolor\":\"#E5ECF6\",\"polar\":{\"angularaxis\":{\"gridcolor\":\"white\",\"linecolor\":\"white\",\"ticks\":\"\"},\"bgcolor\":\"#E5ECF6\",\"radialaxis\":{\"gridcolor\":\"white\",\"linecolor\":\"white\",\"ticks\":\"\"}},\"scene\":{\"xaxis\":{\"backgroundcolor\":\"#E5ECF6\",\"gridcolor\":\"white\",\"gridwidth\":2,\"linecolor\":\"white\",\"showbackground\":true,\"ticks\":\"\",\"zerolinecolor\":\"white\"},\"yaxis\":{\"backgroundcolor\":\"#E5ECF6\",\"gridcolor\":\"white\",\"gridwidth\":2,\"linecolor\":\"white\",\"showbackground\":true,\"ticks\":\"\",\"zerolinecolor\":\"white\"},\"zaxis\":{\"backgroundcolor\":\"#E5ECF6\",\"gridcolor\":\"white\",\"gridwidth\":2,\"linecolor\":\"white\",\"showbackground\":true,\"ticks\":\"\",\"zerolinecolor\":\"white\"}},\"shapedefaults\":{\"line\":{\"color\":\"#2a3f5f\"}},\"ternary\":{\"aaxis\":{\"gridcolor\":\"white\",\"linecolor\":\"white\",\"ticks\":\"\"},\"baxis\":{\"gridcolor\":\"white\",\"linecolor\":\"white\",\"ticks\":\"\"},\"bgcolor\":\"#E5ECF6\",\"caxis\":{\"gridcolor\":\"white\",\"linecolor\":\"white\",\"ticks\":\"\"}},\"title\":{\"x\":0.05},\"xaxis\":{\"automargin\":true,\"gridcolor\":\"white\",\"linecolor\":\"white\",\"ticks\":\"\",\"title\":{\"standoff\":15},\"zerolinecolor\":\"white\",\"zerolinewidth\":2},\"yaxis\":{\"automargin\":true,\"gridcolor\":\"white\",\"linecolor\":\"white\",\"ticks\":\"\",\"title\":{\"standoff\":15},\"zerolinecolor\":\"white\",\"zerolinewidth\":2}}},\"xaxis\":{\"anchor\":\"y\",\"domain\":[0.0,1.0],\"title\":{\"text\":\"0\"}},\"yaxis\":{\"anchor\":\"x\",\"domain\":[0.0,1.0],\"title\":{\"text\":\"1\"}},\"legend\":{\"tracegroupgap\":0},\"margin\":{\"t\":60},\"shapes\":[{\"type\":\"line\",\"x0\":0,\"x1\":-0.3610622703413374,\"y0\":0,\"y1\":0.2209861282825036},{\"type\":\"line\",\"x0\":0,\"x1\":-0.11759370584851743,\"y0\":0,\"y1\":0.009970774020561998},{\"type\":\"line\",\"x0\":0,\"x1\":-0.004812080509032713,\"y0\":0,\"y1\":0.01142544581916832},{\"type\":\"line\",\"x0\":0,\"x1\":0.08799314080370772,\"y0\":0,\"y1\":-0.02071056223027803},{\"type\":\"line\",\"x0\":0,\"x1\":0.23047819740497658,\"y0\":0,\"y1\":-0.03877925925730255},{\"type\":\"line\",\"x0\":0,\"x1\":-0.08213476553840422,\"y0\":0,\"y1\":-0.052831749189167374},{\"type\":\"line\",\"x0\":0,\"x1\":-0.2552664433504958,\"y0\":0,\"y1\":-0.3709322684563684},{\"type\":\"line\",\"x0\":0,\"x1\":-0.35695940465361986,\"y0\":0,\"y1\":0.18668190773105695},{\"type\":\"line\",\"x0\":0,\"x1\":0.24910088566901187,\"y0\":0,\"y1\":0.3652545009315909},{\"type\":\"line\",\"x0\":0,\"x1\":-0.16178952304286862,\"y0\":0,\"y1\":0.046527108455796405},{\"type\":\"line\",\"x0\":0,\"x1\":0.2837065259505234,\"y0\":0,\"y1\":-0.08483501632450477}],\"annotations\":[{\"ax\":0,\"ay\":0,\"text\":\"yummy\",\"x\":-0.3610622703413374,\"xanchor\":\"center\",\"y\":0.2209861282825036,\"yanchor\":\"bottom\"},{\"ax\":0,\"ay\":0,\"text\":\"convenient\",\"x\":-0.11759370584851743,\"xanchor\":\"center\",\"y\":0.009970774020561998,\"yanchor\":\"bottom\"},{\"ax\":0,\"ay\":0,\"text\":\"spicy\",\"x\":-0.004812080509032713,\"xanchor\":\"center\",\"y\":0.01142544581916832,\"yanchor\":\"bottom\"},{\"ax\":0,\"ay\":0,\"text\":\"fattening\",\"x\":0.08799314080370772,\"xanchor\":\"center\",\"y\":-0.02071056223027803,\"yanchor\":\"bottom\"},{\"ax\":0,\"ay\":0,\"text\":\"greasy\",\"x\":0.23047819740497658,\"xanchor\":\"center\",\"y\":-0.03877925925730255,\"yanchor\":\"bottom\"},{\"ax\":0,\"ay\":0,\"text\":\"fast\",\"x\":-0.08213476553840422,\"xanchor\":\"center\",\"y\":-0.052831749189167374,\"yanchor\":\"bottom\"},{\"ax\":0,\"ay\":0,\"text\":\"cheap\",\"x\":-0.2552664433504958,\"xanchor\":\"center\",\"y\":-0.3709322684563684,\"yanchor\":\"bottom\"},{\"ax\":0,\"ay\":0,\"text\":\"tasty\",\"x\":-0.35695940465361986,\"xanchor\":\"center\",\"y\":0.18668190773105695,\"yanchor\":\"bottom\"},{\"ax\":0,\"ay\":0,\"text\":\"expensive\",\"x\":0.24910088566901187,\"xanchor\":\"center\",\"y\":0.3652545009315909,\"yanchor\":\"bottom\"},{\"ax\":0,\"ay\":0,\"text\":\"healthy\",\"x\":-0.16178952304286862,\"xanchor\":\"center\",\"y\":0.046527108455796405,\"yanchor\":\"bottom\"},{\"ax\":0,\"ay\":0,\"text\":\"disgusting\",\"x\":0.2837065259505234,\"xanchor\":\"center\",\"y\":-0.08483501632450477,\"yanchor\":\"bottom\"}]},                        {\"responsive\": true}                    ).then(function(){\n",
              "                            \n",
              "var gd = document.getElementById('1162e421-7345-4ba8-88d8-8de1bb341a2a');\n",
              "var x = new MutationObserver(function (mutations, observer) {{\n",
              "        var display = window.getComputedStyle(gd).display;\n",
              "        if (!display || display === 'none') {{\n",
              "            console.log([gd, 'removed!']);\n",
              "            Plotly.purge(gd);\n",
              "            observer.disconnect();\n",
              "        }}\n",
              "}});\n",
              "\n",
              "// Listen for the removal of the full notebook cells\n",
              "var notebookContainer = gd.closest('#notebook-container');\n",
              "if (notebookContainer) {{\n",
              "    x.observe(notebookContainer, {childList: true});\n",
              "}}\n",
              "\n",
              "// Listen for the clearing of the current output cell\n",
              "var outputEl = gd.closest('.output');\n",
              "if (outputEl) {{\n",
              "    x.observe(outputEl, {childList: true});\n",
              "}}\n",
              "\n",
              "                        })                };                            </script>        </div>\n",
              "</body>\n",
              "</html>"
            ]
          },
          "metadata": {}
        }
      ]
    },
    {
      "cell_type": "markdown",
      "source": [
        "**K Means Clustering**"
      ],
      "metadata": {
        "id": "q_2_bnOAKJhY"
      }
    },
    {
      "cell_type": "code",
      "source": [
        "from sklearn.cluster import KMeans"
      ],
      "metadata": {
        "id": "yqKOA2oVIgZx"
      },
      "execution_count": 175,
      "outputs": []
    },
    {
      "cell_type": "code",
      "source": [
        "data3 = data2.values"
      ],
      "metadata": {
        "id": "b4gHqRT1IvoW"
      },
      "execution_count": 176,
      "outputs": []
    },
    {
      "cell_type": "code",
      "source": [
        "l = []\n",
        "for i in range(2,20):\n",
        "    kmeans = KMeans(n_clusters = i, init = 'k-means++')\n",
        "    kmeans.fit(data3)\n",
        "    l.append(kmeans.inertia_)"
      ],
      "metadata": {
        "id": "rL_rdbCKI12T"
      },
      "execution_count": 177,
      "outputs": []
    },
    {
      "cell_type": "code",
      "source": [
        "wcss = pd.DataFrame({'Clusters':list(range(2,20)), 'WCSS':l})"
      ],
      "metadata": {
        "id": "2aCpszJTI5ut"
      },
      "execution_count": 178,
      "outputs": []
    },
    {
      "cell_type": "code",
      "source": [
        "px.bar(data_frame=wcss, x='Clusters', y='WCSS')"
      ],
      "metadata": {
        "colab": {
          "base_uri": "https://localhost:8080/",
          "height": 542
        },
        "id": "Yc8niqfJJKgY",
        "outputId": "6a39e8c6-8281-4332-caa5-60d8ed9e746a"
      },
      "execution_count": 179,
      "outputs": [
        {
          "output_type": "display_data",
          "data": {
            "text/html": [
              "<html>\n",
              "<head><meta charset=\"utf-8\" /></head>\n",
              "<body>\n",
              "    <div>            <script src=\"https://cdnjs.cloudflare.com/ajax/libs/mathjax/2.7.5/MathJax.js?config=TeX-AMS-MML_SVG\"></script><script type=\"text/javascript\">if (window.MathJax) {MathJax.Hub.Config({SVG: {font: \"STIX-Web\"}});}</script>                <script type=\"text/javascript\">window.PlotlyConfig = {MathJaxConfig: 'local'};</script>\n",
              "        <script src=\"https://cdn.plot.ly/plotly-2.8.3.min.js\"></script>                <div id=\"508a670f-8bc1-479a-bea9-03185906cea4\" class=\"plotly-graph-div\" style=\"height:525px; width:100%;\"></div>            <script type=\"text/javascript\">                                    window.PLOTLYENV=window.PLOTLYENV || {};                                    if (document.getElementById(\"508a670f-8bc1-479a-bea9-03185906cea4\")) {                    Plotly.newPlot(                        \"508a670f-8bc1-479a-bea9-03185906cea4\",                        [{\"alignmentgroup\":\"True\",\"hovertemplate\":\"Clusters=%{x}<br>WCSS=%{y}<extra></extra>\",\"legendgroup\":\"\",\"marker\":{\"color\":\"#636efa\",\"pattern\":{\"shape\":\"\"}},\"name\":\"\",\"offsetgroup\":\"\",\"orientation\":\"v\",\"showlegend\":false,\"textposition\":\"auto\",\"x\":[2,3,4,5,6,7,8,9,10,11,12,13,14,15,16,17,18,19],\"xaxis\":\"x\",\"y\":[2145.5037269171667,1818.7176591653915,1603.9138019336206,1434.8577266592533,1354.8203452654584,1253.0738819215112,1201.432963595628,1127.551541866199,1078.49236694543,1025.5524761134304,982.7204573346596,969.6233672737095,925.8678964933296,899.3161635914901,849.6409782502407,850.666465490249,810.2076423366193,788.3727093626032],\"yaxis\":\"y\",\"type\":\"bar\"}],                        {\"template\":{\"data\":{\"bar\":[{\"error_x\":{\"color\":\"#2a3f5f\"},\"error_y\":{\"color\":\"#2a3f5f\"},\"marker\":{\"line\":{\"color\":\"#E5ECF6\",\"width\":0.5},\"pattern\":{\"fillmode\":\"overlay\",\"size\":10,\"solidity\":0.2}},\"type\":\"bar\"}],\"barpolar\":[{\"marker\":{\"line\":{\"color\":\"#E5ECF6\",\"width\":0.5},\"pattern\":{\"fillmode\":\"overlay\",\"size\":10,\"solidity\":0.2}},\"type\":\"barpolar\"}],\"carpet\":[{\"aaxis\":{\"endlinecolor\":\"#2a3f5f\",\"gridcolor\":\"white\",\"linecolor\":\"white\",\"minorgridcolor\":\"white\",\"startlinecolor\":\"#2a3f5f\"},\"baxis\":{\"endlinecolor\":\"#2a3f5f\",\"gridcolor\":\"white\",\"linecolor\":\"white\",\"minorgridcolor\":\"white\",\"startlinecolor\":\"#2a3f5f\"},\"type\":\"carpet\"}],\"choropleth\":[{\"colorbar\":{\"outlinewidth\":0,\"ticks\":\"\"},\"type\":\"choropleth\"}],\"contour\":[{\"colorbar\":{\"outlinewidth\":0,\"ticks\":\"\"},\"colorscale\":[[0.0,\"#0d0887\"],[0.1111111111111111,\"#46039f\"],[0.2222222222222222,\"#7201a8\"],[0.3333333333333333,\"#9c179e\"],[0.4444444444444444,\"#bd3786\"],[0.5555555555555556,\"#d8576b\"],[0.6666666666666666,\"#ed7953\"],[0.7777777777777778,\"#fb9f3a\"],[0.8888888888888888,\"#fdca26\"],[1.0,\"#f0f921\"]],\"type\":\"contour\"}],\"contourcarpet\":[{\"colorbar\":{\"outlinewidth\":0,\"ticks\":\"\"},\"type\":\"contourcarpet\"}],\"heatmap\":[{\"colorbar\":{\"outlinewidth\":0,\"ticks\":\"\"},\"colorscale\":[[0.0,\"#0d0887\"],[0.1111111111111111,\"#46039f\"],[0.2222222222222222,\"#7201a8\"],[0.3333333333333333,\"#9c179e\"],[0.4444444444444444,\"#bd3786\"],[0.5555555555555556,\"#d8576b\"],[0.6666666666666666,\"#ed7953\"],[0.7777777777777778,\"#fb9f3a\"],[0.8888888888888888,\"#fdca26\"],[1.0,\"#f0f921\"]],\"type\":\"heatmap\"}],\"heatmapgl\":[{\"colorbar\":{\"outlinewidth\":0,\"ticks\":\"\"},\"colorscale\":[[0.0,\"#0d0887\"],[0.1111111111111111,\"#46039f\"],[0.2222222222222222,\"#7201a8\"],[0.3333333333333333,\"#9c179e\"],[0.4444444444444444,\"#bd3786\"],[0.5555555555555556,\"#d8576b\"],[0.6666666666666666,\"#ed7953\"],[0.7777777777777778,\"#fb9f3a\"],[0.8888888888888888,\"#fdca26\"],[1.0,\"#f0f921\"]],\"type\":\"heatmapgl\"}],\"histogram\":[{\"marker\":{\"pattern\":{\"fillmode\":\"overlay\",\"size\":10,\"solidity\":0.2}},\"type\":\"histogram\"}],\"histogram2d\":[{\"colorbar\":{\"outlinewidth\":0,\"ticks\":\"\"},\"colorscale\":[[0.0,\"#0d0887\"],[0.1111111111111111,\"#46039f\"],[0.2222222222222222,\"#7201a8\"],[0.3333333333333333,\"#9c179e\"],[0.4444444444444444,\"#bd3786\"],[0.5555555555555556,\"#d8576b\"],[0.6666666666666666,\"#ed7953\"],[0.7777777777777778,\"#fb9f3a\"],[0.8888888888888888,\"#fdca26\"],[1.0,\"#f0f921\"]],\"type\":\"histogram2d\"}],\"histogram2dcontour\":[{\"colorbar\":{\"outlinewidth\":0,\"ticks\":\"\"},\"colorscale\":[[0.0,\"#0d0887\"],[0.1111111111111111,\"#46039f\"],[0.2222222222222222,\"#7201a8\"],[0.3333333333333333,\"#9c179e\"],[0.4444444444444444,\"#bd3786\"],[0.5555555555555556,\"#d8576b\"],[0.6666666666666666,\"#ed7953\"],[0.7777777777777778,\"#fb9f3a\"],[0.8888888888888888,\"#fdca26\"],[1.0,\"#f0f921\"]],\"type\":\"histogram2dcontour\"}],\"mesh3d\":[{\"colorbar\":{\"outlinewidth\":0,\"ticks\":\"\"},\"type\":\"mesh3d\"}],\"parcoords\":[{\"line\":{\"colorbar\":{\"outlinewidth\":0,\"ticks\":\"\"}},\"type\":\"parcoords\"}],\"pie\":[{\"automargin\":true,\"type\":\"pie\"}],\"scatter\":[{\"marker\":{\"colorbar\":{\"outlinewidth\":0,\"ticks\":\"\"}},\"type\":\"scatter\"}],\"scatter3d\":[{\"line\":{\"colorbar\":{\"outlinewidth\":0,\"ticks\":\"\"}},\"marker\":{\"colorbar\":{\"outlinewidth\":0,\"ticks\":\"\"}},\"type\":\"scatter3d\"}],\"scattercarpet\":[{\"marker\":{\"colorbar\":{\"outlinewidth\":0,\"ticks\":\"\"}},\"type\":\"scattercarpet\"}],\"scattergeo\":[{\"marker\":{\"colorbar\":{\"outlinewidth\":0,\"ticks\":\"\"}},\"type\":\"scattergeo\"}],\"scattergl\":[{\"marker\":{\"colorbar\":{\"outlinewidth\":0,\"ticks\":\"\"}},\"type\":\"scattergl\"}],\"scattermapbox\":[{\"marker\":{\"colorbar\":{\"outlinewidth\":0,\"ticks\":\"\"}},\"type\":\"scattermapbox\"}],\"scatterpolar\":[{\"marker\":{\"colorbar\":{\"outlinewidth\":0,\"ticks\":\"\"}},\"type\":\"scatterpolar\"}],\"scatterpolargl\":[{\"marker\":{\"colorbar\":{\"outlinewidth\":0,\"ticks\":\"\"}},\"type\":\"scatterpolargl\"}],\"scatterternary\":[{\"marker\":{\"colorbar\":{\"outlinewidth\":0,\"ticks\":\"\"}},\"type\":\"scatterternary\"}],\"surface\":[{\"colorbar\":{\"outlinewidth\":0,\"ticks\":\"\"},\"colorscale\":[[0.0,\"#0d0887\"],[0.1111111111111111,\"#46039f\"],[0.2222222222222222,\"#7201a8\"],[0.3333333333333333,\"#9c179e\"],[0.4444444444444444,\"#bd3786\"],[0.5555555555555556,\"#d8576b\"],[0.6666666666666666,\"#ed7953\"],[0.7777777777777778,\"#fb9f3a\"],[0.8888888888888888,\"#fdca26\"],[1.0,\"#f0f921\"]],\"type\":\"surface\"}],\"table\":[{\"cells\":{\"fill\":{\"color\":\"#EBF0F8\"},\"line\":{\"color\":\"white\"}},\"header\":{\"fill\":{\"color\":\"#C8D4E3\"},\"line\":{\"color\":\"white\"}},\"type\":\"table\"}]},\"layout\":{\"annotationdefaults\":{\"arrowcolor\":\"#2a3f5f\",\"arrowhead\":0,\"arrowwidth\":1},\"autotypenumbers\":\"strict\",\"coloraxis\":{\"colorbar\":{\"outlinewidth\":0,\"ticks\":\"\"}},\"colorscale\":{\"diverging\":[[0,\"#8e0152\"],[0.1,\"#c51b7d\"],[0.2,\"#de77ae\"],[0.3,\"#f1b6da\"],[0.4,\"#fde0ef\"],[0.5,\"#f7f7f7\"],[0.6,\"#e6f5d0\"],[0.7,\"#b8e186\"],[0.8,\"#7fbc41\"],[0.9,\"#4d9221\"],[1,\"#276419\"]],\"sequential\":[[0.0,\"#0d0887\"],[0.1111111111111111,\"#46039f\"],[0.2222222222222222,\"#7201a8\"],[0.3333333333333333,\"#9c179e\"],[0.4444444444444444,\"#bd3786\"],[0.5555555555555556,\"#d8576b\"],[0.6666666666666666,\"#ed7953\"],[0.7777777777777778,\"#fb9f3a\"],[0.8888888888888888,\"#fdca26\"],[1.0,\"#f0f921\"]],\"sequentialminus\":[[0.0,\"#0d0887\"],[0.1111111111111111,\"#46039f\"],[0.2222222222222222,\"#7201a8\"],[0.3333333333333333,\"#9c179e\"],[0.4444444444444444,\"#bd3786\"],[0.5555555555555556,\"#d8576b\"],[0.6666666666666666,\"#ed7953\"],[0.7777777777777778,\"#fb9f3a\"],[0.8888888888888888,\"#fdca26\"],[1.0,\"#f0f921\"]]},\"colorway\":[\"#636efa\",\"#EF553B\",\"#00cc96\",\"#ab63fa\",\"#FFA15A\",\"#19d3f3\",\"#FF6692\",\"#B6E880\",\"#FF97FF\",\"#FECB52\"],\"font\":{\"color\":\"#2a3f5f\"},\"geo\":{\"bgcolor\":\"white\",\"lakecolor\":\"white\",\"landcolor\":\"#E5ECF6\",\"showlakes\":true,\"showland\":true,\"subunitcolor\":\"white\"},\"hoverlabel\":{\"align\":\"left\"},\"hovermode\":\"closest\",\"mapbox\":{\"style\":\"light\"},\"paper_bgcolor\":\"white\",\"plot_bgcolor\":\"#E5ECF6\",\"polar\":{\"angularaxis\":{\"gridcolor\":\"white\",\"linecolor\":\"white\",\"ticks\":\"\"},\"bgcolor\":\"#E5ECF6\",\"radialaxis\":{\"gridcolor\":\"white\",\"linecolor\":\"white\",\"ticks\":\"\"}},\"scene\":{\"xaxis\":{\"backgroundcolor\":\"#E5ECF6\",\"gridcolor\":\"white\",\"gridwidth\":2,\"linecolor\":\"white\",\"showbackground\":true,\"ticks\":\"\",\"zerolinecolor\":\"white\"},\"yaxis\":{\"backgroundcolor\":\"#E5ECF6\",\"gridcolor\":\"white\",\"gridwidth\":2,\"linecolor\":\"white\",\"showbackground\":true,\"ticks\":\"\",\"zerolinecolor\":\"white\"},\"zaxis\":{\"backgroundcolor\":\"#E5ECF6\",\"gridcolor\":\"white\",\"gridwidth\":2,\"linecolor\":\"white\",\"showbackground\":true,\"ticks\":\"\",\"zerolinecolor\":\"white\"}},\"shapedefaults\":{\"line\":{\"color\":\"#2a3f5f\"}},\"ternary\":{\"aaxis\":{\"gridcolor\":\"white\",\"linecolor\":\"white\",\"ticks\":\"\"},\"baxis\":{\"gridcolor\":\"white\",\"linecolor\":\"white\",\"ticks\":\"\"},\"bgcolor\":\"#E5ECF6\",\"caxis\":{\"gridcolor\":\"white\",\"linecolor\":\"white\",\"ticks\":\"\"}},\"title\":{\"x\":0.05},\"xaxis\":{\"automargin\":true,\"gridcolor\":\"white\",\"linecolor\":\"white\",\"ticks\":\"\",\"title\":{\"standoff\":15},\"zerolinecolor\":\"white\",\"zerolinewidth\":2},\"yaxis\":{\"automargin\":true,\"gridcolor\":\"white\",\"linecolor\":\"white\",\"ticks\":\"\",\"title\":{\"standoff\":15},\"zerolinecolor\":\"white\",\"zerolinewidth\":2}}},\"xaxis\":{\"anchor\":\"y\",\"domain\":[0.0,1.0],\"title\":{\"text\":\"Clusters\"}},\"yaxis\":{\"anchor\":\"x\",\"domain\":[0.0,1.0],\"title\":{\"text\":\"WCSS\"}},\"legend\":{\"tracegroupgap\":0},\"margin\":{\"t\":60},\"barmode\":\"relative\"},                        {\"responsive\": true}                    ).then(function(){\n",
              "                            \n",
              "var gd = document.getElementById('508a670f-8bc1-479a-bea9-03185906cea4');\n",
              "var x = new MutationObserver(function (mutations, observer) {{\n",
              "        var display = window.getComputedStyle(gd).display;\n",
              "        if (!display || display === 'none') {{\n",
              "            console.log([gd, 'removed!']);\n",
              "            Plotly.purge(gd);\n",
              "            observer.disconnect();\n",
              "        }}\n",
              "}});\n",
              "\n",
              "// Listen for the removal of the full notebook cells\n",
              "var notebookContainer = gd.closest('#notebook-container');\n",
              "if (notebookContainer) {{\n",
              "    x.observe(notebookContainer, {childList: true});\n",
              "}}\n",
              "\n",
              "// Listen for the clearing of the current output cell\n",
              "var outputEl = gd.closest('.output');\n",
              "if (outputEl) {{\n",
              "    x.observe(outputEl, {childList: true});\n",
              "}}\n",
              "\n",
              "                        })                };                            </script>        </div>\n",
              "</body>\n",
              "</html>"
            ]
          },
          "metadata": {}
        }
      ]
    },
    {
      "cell_type": "code",
      "source": [
        "kmeans = KMeans(4)\n",
        "kmeans.fit(data2)\n",
        "data2['Predicted_Clusters'] = kmeans.predict(data2)"
      ],
      "metadata": {
        "id": "QkSFU6EpJaQT"
      },
      "execution_count": 180,
      "outputs": []
    },
    {
      "cell_type": "code",
      "source": [
        "data2.head()"
      ],
      "metadata": {
        "colab": {
          "base_uri": "https://localhost:8080/",
          "height": 206
        },
        "id": "GGzjuLwjJy5Y",
        "outputId": "ac0d1028-2f81-48a9-f8f9-c074a9b08cac"
      },
      "execution_count": 181,
      "outputs": [
        {
          "output_type": "execute_result",
          "data": {
            "text/plain": [
              "   yummy  convenient  spicy  fattening  greasy  fast  cheap  tasty  expensive  \\\n",
              "0      0           1      0          1       0     1      1      0          1   \n",
              "1      1           1      0          1       1     1      1      1          1   \n",
              "2      0           1      1          1       1     1      0      1          1   \n",
              "3      1           1      0          1       1     1      1      1          0   \n",
              "4      0           1      0          1       1     1      1      0          0   \n",
              "\n",
              "   healthy  disgusting  Predicted_Clusters  \n",
              "0        0           0                   0  \n",
              "1        0           0                   3  \n",
              "2        1           0                   3  \n",
              "3        0           1                   2  \n",
              "4        1           0                   0  "
            ],
            "text/html": [
              "\n",
              "  <div id=\"df-83b79515-60b2-4ccb-9116-1dbfcff51b35\">\n",
              "    <div class=\"colab-df-container\">\n",
              "      <div>\n",
              "<style scoped>\n",
              "    .dataframe tbody tr th:only-of-type {\n",
              "        vertical-align: middle;\n",
              "    }\n",
              "\n",
              "    .dataframe tbody tr th {\n",
              "        vertical-align: top;\n",
              "    }\n",
              "\n",
              "    .dataframe thead th {\n",
              "        text-align: right;\n",
              "    }\n",
              "</style>\n",
              "<table border=\"1\" class=\"dataframe\">\n",
              "  <thead>\n",
              "    <tr style=\"text-align: right;\">\n",
              "      <th></th>\n",
              "      <th>yummy</th>\n",
              "      <th>convenient</th>\n",
              "      <th>spicy</th>\n",
              "      <th>fattening</th>\n",
              "      <th>greasy</th>\n",
              "      <th>fast</th>\n",
              "      <th>cheap</th>\n",
              "      <th>tasty</th>\n",
              "      <th>expensive</th>\n",
              "      <th>healthy</th>\n",
              "      <th>disgusting</th>\n",
              "      <th>Predicted_Clusters</th>\n",
              "    </tr>\n",
              "  </thead>\n",
              "  <tbody>\n",
              "    <tr>\n",
              "      <th>0</th>\n",
              "      <td>0</td>\n",
              "      <td>1</td>\n",
              "      <td>0</td>\n",
              "      <td>1</td>\n",
              "      <td>0</td>\n",
              "      <td>1</td>\n",
              "      <td>1</td>\n",
              "      <td>0</td>\n",
              "      <td>1</td>\n",
              "      <td>0</td>\n",
              "      <td>0</td>\n",
              "      <td>0</td>\n",
              "    </tr>\n",
              "    <tr>\n",
              "      <th>1</th>\n",
              "      <td>1</td>\n",
              "      <td>1</td>\n",
              "      <td>0</td>\n",
              "      <td>1</td>\n",
              "      <td>1</td>\n",
              "      <td>1</td>\n",
              "      <td>1</td>\n",
              "      <td>1</td>\n",
              "      <td>1</td>\n",
              "      <td>0</td>\n",
              "      <td>0</td>\n",
              "      <td>3</td>\n",
              "    </tr>\n",
              "    <tr>\n",
              "      <th>2</th>\n",
              "      <td>0</td>\n",
              "      <td>1</td>\n",
              "      <td>1</td>\n",
              "      <td>1</td>\n",
              "      <td>1</td>\n",
              "      <td>1</td>\n",
              "      <td>0</td>\n",
              "      <td>1</td>\n",
              "      <td>1</td>\n",
              "      <td>1</td>\n",
              "      <td>0</td>\n",
              "      <td>3</td>\n",
              "    </tr>\n",
              "    <tr>\n",
              "      <th>3</th>\n",
              "      <td>1</td>\n",
              "      <td>1</td>\n",
              "      <td>0</td>\n",
              "      <td>1</td>\n",
              "      <td>1</td>\n",
              "      <td>1</td>\n",
              "      <td>1</td>\n",
              "      <td>1</td>\n",
              "      <td>0</td>\n",
              "      <td>0</td>\n",
              "      <td>1</td>\n",
              "      <td>2</td>\n",
              "    </tr>\n",
              "    <tr>\n",
              "      <th>4</th>\n",
              "      <td>0</td>\n",
              "      <td>1</td>\n",
              "      <td>0</td>\n",
              "      <td>1</td>\n",
              "      <td>1</td>\n",
              "      <td>1</td>\n",
              "      <td>1</td>\n",
              "      <td>0</td>\n",
              "      <td>0</td>\n",
              "      <td>1</td>\n",
              "      <td>0</td>\n",
              "      <td>0</td>\n",
              "    </tr>\n",
              "  </tbody>\n",
              "</table>\n",
              "</div>\n",
              "      <button class=\"colab-df-convert\" onclick=\"convertToInteractive('df-83b79515-60b2-4ccb-9116-1dbfcff51b35')\"\n",
              "              title=\"Convert this dataframe to an interactive table.\"\n",
              "              style=\"display:none;\">\n",
              "        \n",
              "  <svg xmlns=\"http://www.w3.org/2000/svg\" height=\"24px\"viewBox=\"0 0 24 24\"\n",
              "       width=\"24px\">\n",
              "    <path d=\"M0 0h24v24H0V0z\" fill=\"none\"/>\n",
              "    <path d=\"M18.56 5.44l.94 2.06.94-2.06 2.06-.94-2.06-.94-.94-2.06-.94 2.06-2.06.94zm-11 1L8.5 8.5l.94-2.06 2.06-.94-2.06-.94L8.5 2.5l-.94 2.06-2.06.94zm10 10l.94 2.06.94-2.06 2.06-.94-2.06-.94-.94-2.06-.94 2.06-2.06.94z\"/><path d=\"M17.41 7.96l-1.37-1.37c-.4-.4-.92-.59-1.43-.59-.52 0-1.04.2-1.43.59L10.3 9.45l-7.72 7.72c-.78.78-.78 2.05 0 2.83L4 21.41c.39.39.9.59 1.41.59.51 0 1.02-.2 1.41-.59l7.78-7.78 2.81-2.81c.8-.78.8-2.07 0-2.86zM5.41 20L4 18.59l7.72-7.72 1.47 1.35L5.41 20z\"/>\n",
              "  </svg>\n",
              "      </button>\n",
              "      \n",
              "  <style>\n",
              "    .colab-df-container {\n",
              "      display:flex;\n",
              "      flex-wrap:wrap;\n",
              "      gap: 12px;\n",
              "    }\n",
              "\n",
              "    .colab-df-convert {\n",
              "      background-color: #E8F0FE;\n",
              "      border: none;\n",
              "      border-radius: 50%;\n",
              "      cursor: pointer;\n",
              "      display: none;\n",
              "      fill: #1967D2;\n",
              "      height: 32px;\n",
              "      padding: 0 0 0 0;\n",
              "      width: 32px;\n",
              "    }\n",
              "\n",
              "    .colab-df-convert:hover {\n",
              "      background-color: #E2EBFA;\n",
              "      box-shadow: 0px 1px 2px rgba(60, 64, 67, 0.3), 0px 1px 3px 1px rgba(60, 64, 67, 0.15);\n",
              "      fill: #174EA6;\n",
              "    }\n",
              "\n",
              "    [theme=dark] .colab-df-convert {\n",
              "      background-color: #3B4455;\n",
              "      fill: #D2E3FC;\n",
              "    }\n",
              "\n",
              "    [theme=dark] .colab-df-convert:hover {\n",
              "      background-color: #434B5C;\n",
              "      box-shadow: 0px 1px 3px 1px rgba(0, 0, 0, 0.15);\n",
              "      filter: drop-shadow(0px 1px 2px rgba(0, 0, 0, 0.3));\n",
              "      fill: #FFFFFF;\n",
              "    }\n",
              "  </style>\n",
              "\n",
              "      <script>\n",
              "        const buttonEl =\n",
              "          document.querySelector('#df-83b79515-60b2-4ccb-9116-1dbfcff51b35 button.colab-df-convert');\n",
              "        buttonEl.style.display =\n",
              "          google.colab.kernel.accessAllowed ? 'block' : 'none';\n",
              "\n",
              "        async function convertToInteractive(key) {\n",
              "          const element = document.querySelector('#df-83b79515-60b2-4ccb-9116-1dbfcff51b35');\n",
              "          const dataTable =\n",
              "            await google.colab.kernel.invokeFunction('convertToInteractive',\n",
              "                                                     [key], {});\n",
              "          if (!dataTable) return;\n",
              "\n",
              "          const docLinkHtml = 'Like what you see? Visit the ' +\n",
              "            '<a target=\"_blank\" href=https://colab.research.google.com/notebooks/data_table.ipynb>data table notebook</a>'\n",
              "            + ' to learn more about interactive tables.';\n",
              "          element.innerHTML = '';\n",
              "          dataTable['output_type'] = 'display_data';\n",
              "          await google.colab.output.renderOutput(dataTable, element);\n",
              "          const docLink = document.createElement('div');\n",
              "          docLink.innerHTML = docLinkHtml;\n",
              "          element.appendChild(docLink);\n",
              "        }\n",
              "      </script>\n",
              "    </div>\n",
              "  </div>\n",
              "  "
            ]
          },
          "metadata": {},
          "execution_count": 181
        }
      ]
    },
    {
      "cell_type": "code",
      "source": [
        "plt.rcParams['figure.figsize'] = (10,6)\n",
        "sns.scatterplot(x = components[:,0], y = components[:,1], hue=data2['Predicted_Clusters'], palette='hls')"
      ],
      "metadata": {
        "colab": {
          "base_uri": "https://localhost:8080/",
          "height": 395
        },
        "id": "iXtbP5VnKCf6",
        "outputId": "d6b73f7c-d9cc-4b95-e4db-cceb1bfc804a"
      },
      "execution_count": 182,
      "outputs": [
        {
          "output_type": "execute_result",
          "data": {
            "text/plain": [
              "<matplotlib.axes._subplots.AxesSubplot at 0x7f2510308610>"
            ]
          },
          "metadata": {},
          "execution_count": 182
        },
        {
          "output_type": "display_data",
          "data": {
            "text/plain": [
              "<Figure size 720x432 with 1 Axes>"
            ],
            "image/png": "[encoded data removed]"
          },
          "metadata": {}
        }
      ]
    }
  ]
}